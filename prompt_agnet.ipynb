{
 "cells": [
  {
   "cell_type": "markdown",
   "id": "eb07c684",
   "metadata": {},
   "source": [
    "# 提示词Agent"
   ]
  },
  {
   "cell_type": "markdown",
   "id": "f0be6739",
   "metadata": {},
   "source": [
    "[参考链接](https://github.com/langchain-ai/langgraph/blob/main/docs/docs/tutorials/chatbots/information-gather-prompting.ipynb)"
   ]
  },
  {
   "cell_type": "code",
   "execution_count": 6,
   "id": "d52ebd44",
   "metadata": {},
   "outputs": [
    {
     "name": "stdout",
     "output_type": "stream",
     "text": [
      "Looking in indexes: https://mirrors.aliyun.com/pypi/simple/\n",
      "Requirement already satisfied: langgraph in /Users/barry/.pyenv/versions/3.13.3/lib/python3.13/site-packages (0.6.5)\n",
      "Requirement already satisfied: langchain_openai in /Users/barry/.pyenv/versions/3.13.3/lib/python3.13/site-packages (0.3.30)\n",
      "Requirement already satisfied: langchain_core in /Users/barry/.pyenv/versions/3.13.3/lib/python3.13/site-packages (0.3.74)\n",
      "Requirement already satisfied: langchain in /Users/barry/.pyenv/versions/3.13.3/lib/python3.13/site-packages (0.3.27)\n",
      "Requirement already satisfied: langchain_ai21 in /Users/barry/.pyenv/versions/3.13.3/lib/python3.13/site-packages (1.2.0)\n",
      "Requirement already satisfied: langgraph-checkpoint<3.0.0,>=2.1.0 in /Users/barry/.pyenv/versions/3.13.3/lib/python3.13/site-packages (from langgraph) (2.1.1)\n",
      "Requirement already satisfied: langgraph-prebuilt<0.7.0,>=0.6.0 in /Users/barry/.pyenv/versions/3.13.3/lib/python3.13/site-packages (from langgraph) (0.6.4)\n",
      "Requirement already satisfied: langgraph-sdk<0.3.0,>=0.2.0 in /Users/barry/.pyenv/versions/3.13.3/lib/python3.13/site-packages (from langgraph) (0.2.0)\n",
      "Requirement already satisfied: pydantic>=2.7.4 in /Users/barry/.pyenv/versions/3.13.3/lib/python3.13/site-packages (from langgraph) (2.11.7)\n",
      "Requirement already satisfied: xxhash>=3.5.0 in /Users/barry/.pyenv/versions/3.13.3/lib/python3.13/site-packages (from langgraph) (3.5.0)\n",
      "Requirement already satisfied: openai<2.0.0,>=1.99.9 in /Users/barry/.pyenv/versions/3.13.3/lib/python3.13/site-packages (from langchain_openai) (1.99.9)\n",
      "Requirement already satisfied: tiktoken<1,>=0.7 in /Users/barry/.pyenv/versions/3.13.3/lib/python3.13/site-packages (from langchain_openai) (0.11.0)\n",
      "Requirement already satisfied: langsmith>=0.3.45 in /Users/barry/.pyenv/versions/3.13.3/lib/python3.13/site-packages (from langchain_core) (0.4.13)\n",
      "Requirement already satisfied: tenacity!=8.4.0,<10.0.0,>=8.1.0 in /Users/barry/.pyenv/versions/3.13.3/lib/python3.13/site-packages (from langchain_core) (8.5.0)\n",
      "Requirement already satisfied: jsonpatch<2.0,>=1.33 in /Users/barry/.pyenv/versions/3.13.3/lib/python3.13/site-packages (from langchain_core) (1.33)\n",
      "Requirement already satisfied: PyYAML>=5.3 in /Users/barry/.pyenv/versions/3.13.3/lib/python3.13/site-packages (from langchain_core) (6.0.2)\n",
      "Requirement already satisfied: typing-extensions>=4.7 in /Users/barry/.pyenv/versions/3.13.3/lib/python3.13/site-packages (from langchain_core) (4.14.1)\n",
      "Requirement already satisfied: packaging>=23.2 in /Users/barry/.local/lib/python3.13/site-packages (from langchain_core) (25.0)\n",
      "Requirement already satisfied: langchain-text-splitters<1.0.0,>=0.3.9 in /Users/barry/.pyenv/versions/3.13.3/lib/python3.13/site-packages (from langchain) (0.3.9)\n",
      "Requirement already satisfied: SQLAlchemy<3,>=1.4 in /Users/barry/.pyenv/versions/3.13.3/lib/python3.13/site-packages (from langchain) (2.0.42)\n",
      "Requirement already satisfied: requests<3,>=2 in /Users/barry/.pyenv/versions/3.13.3/lib/python3.13/site-packages (from langchain) (2.32.4)\n",
      "Requirement already satisfied: ai21<4.0.0,>=3.3.0 in /Users/barry/.pyenv/versions/3.13.3/lib/python3.13/site-packages (from langchain_ai21) (3.3.0)\n",
      "Requirement already satisfied: ai21-tokenizer<1.0.0,>=0.12.0 in /Users/barry/.pyenv/versions/3.13.3/lib/python3.13/site-packages (from ai21<4.0.0,>=3.3.0->langchain_ai21) (0.12.0)\n",
      "Requirement already satisfied: httpx<1.0.0,>=0.27.0 in /Users/barry/.pyenv/versions/3.13.3/lib/python3.13/site-packages (from ai21<4.0.0,>=3.3.0->langchain_ai21) (0.28.1)\n",
      "Requirement already satisfied: jsonpointer>=1.9 in /Users/barry/.pyenv/versions/3.13.3/lib/python3.13/site-packages (from jsonpatch<2.0,>=1.33->langchain_core) (3.0.0)\n",
      "Requirement already satisfied: ormsgpack>=1.10.0 in /Users/barry/.pyenv/versions/3.13.3/lib/python3.13/site-packages (from langgraph-checkpoint<3.0.0,>=2.1.0->langgraph) (1.10.0)\n",
      "Requirement already satisfied: orjson>=3.10.1 in /Users/barry/.pyenv/versions/3.13.3/lib/python3.13/site-packages (from langgraph-sdk<0.3.0,>=0.2.0->langgraph) (3.11.1)\n",
      "Requirement already satisfied: requests-toolbelt>=1.0.0 in /Users/barry/.pyenv/versions/3.13.3/lib/python3.13/site-packages (from langsmith>=0.3.45->langchain_core) (1.0.0)\n",
      "Requirement already satisfied: zstandard>=0.23.0 in /Users/barry/.pyenv/versions/3.13.3/lib/python3.13/site-packages (from langsmith>=0.3.45->langchain_core) (0.23.0)\n",
      "Requirement already satisfied: anyio<5,>=3.5.0 in /Users/barry/.pyenv/versions/3.13.3/lib/python3.13/site-packages (from openai<2.0.0,>=1.99.9->langchain_openai) (4.10.0)\n",
      "Requirement already satisfied: distro<2,>=1.7.0 in /Users/barry/.pyenv/versions/3.13.3/lib/python3.13/site-packages (from openai<2.0.0,>=1.99.9->langchain_openai) (1.9.0)\n",
      "Requirement already satisfied: jiter<1,>=0.4.0 in /Users/barry/.pyenv/versions/3.13.3/lib/python3.13/site-packages (from openai<2.0.0,>=1.99.9->langchain_openai) (0.10.0)\n",
      "Requirement already satisfied: sniffio in /Users/barry/.pyenv/versions/3.13.3/lib/python3.13/site-packages (from openai<2.0.0,>=1.99.9->langchain_openai) (1.3.1)\n",
      "Requirement already satisfied: tqdm>4 in /Users/barry/.pyenv/versions/3.13.3/lib/python3.13/site-packages (from openai<2.0.0,>=1.99.9->langchain_openai) (4.67.1)\n",
      "Requirement already satisfied: annotated-types>=0.6.0 in /Users/barry/.pyenv/versions/3.13.3/lib/python3.13/site-packages (from pydantic>=2.7.4->langgraph) (0.7.0)\n",
      "Requirement already satisfied: pydantic-core==2.33.2 in /Users/barry/.pyenv/versions/3.13.3/lib/python3.13/site-packages (from pydantic>=2.7.4->langgraph) (2.33.2)\n",
      "Requirement already satisfied: typing-inspection>=0.4.0 in /Users/barry/.pyenv/versions/3.13.3/lib/python3.13/site-packages (from pydantic>=2.7.4->langgraph) (0.4.1)\n",
      "Requirement already satisfied: charset_normalizer<4,>=2 in /Users/barry/.pyenv/versions/3.13.3/lib/python3.13/site-packages (from requests<3,>=2->langchain) (3.4.3)\n",
      "Requirement already satisfied: idna<4,>=2.5 in /Users/barry/.pyenv/versions/3.13.3/lib/python3.13/site-packages (from requests<3,>=2->langchain) (3.10)\n",
      "Requirement already satisfied: urllib3<3,>=1.21.1 in /Users/barry/.pyenv/versions/3.13.3/lib/python3.13/site-packages (from requests<3,>=2->langchain) (2.5.0)\n",
      "Requirement already satisfied: certifi>=2017.4.17 in /Users/barry/.pyenv/versions/3.13.3/lib/python3.13/site-packages (from requests<3,>=2->langchain) (2025.8.3)\n",
      "Requirement already satisfied: regex>=2022.1.18 in /Users/barry/.pyenv/versions/3.13.3/lib/python3.13/site-packages (from tiktoken<1,>=0.7->langchain_openai) (2025.7.33)\n",
      "Requirement already satisfied: sentencepiece<1.0.0,>=0.2.0 in /Users/barry/.pyenv/versions/3.13.3/lib/python3.13/site-packages (from ai21-tokenizer<1.0.0,>=0.12.0->ai21<4.0.0,>=3.3.0->langchain_ai21) (0.2.1)\n",
      "Requirement already satisfied: tokenizers<1.0.0,>=0.15.0 in /Users/barry/.pyenv/versions/3.13.3/lib/python3.13/site-packages (from ai21-tokenizer<1.0.0,>=0.12.0->ai21<4.0.0,>=3.3.0->langchain_ai21) (0.21.4)\n",
      "Requirement already satisfied: httpcore==1.* in /Users/barry/.pyenv/versions/3.13.3/lib/python3.13/site-packages (from httpx<1.0.0,>=0.27.0->ai21<4.0.0,>=3.3.0->langchain_ai21) (1.0.9)\n",
      "Requirement already satisfied: h11>=0.16 in /Users/barry/.pyenv/versions/3.13.3/lib/python3.13/site-packages (from httpcore==1.*->httpx<1.0.0,>=0.27.0->ai21<4.0.0,>=3.3.0->langchain_ai21) (0.16.0)\n",
      "Requirement already satisfied: huggingface-hub<1.0,>=0.16.4 in /Users/barry/.pyenv/versions/3.13.3/lib/python3.13/site-packages (from tokenizers<1.0.0,>=0.15.0->ai21-tokenizer<1.0.0,>=0.12.0->ai21<4.0.0,>=3.3.0->langchain_ai21) (0.34.4)\n",
      "Requirement already satisfied: filelock in /Users/barry/.pyenv/versions/3.13.3/lib/python3.13/site-packages (from huggingface-hub<1.0,>=0.16.4->tokenizers<1.0.0,>=0.15.0->ai21-tokenizer<1.0.0,>=0.12.0->ai21<4.0.0,>=3.3.0->langchain_ai21) (3.19.1)\n",
      "Requirement already satisfied: fsspec>=2023.5.0 in /Users/barry/.pyenv/versions/3.13.3/lib/python3.13/site-packages (from huggingface-hub<1.0,>=0.16.4->tokenizers<1.0.0,>=0.15.0->ai21-tokenizer<1.0.0,>=0.12.0->ai21<4.0.0,>=3.3.0->langchain_ai21) (2025.7.0)\n",
      "Requirement already satisfied: hf-xet<2.0.0,>=1.1.3 in /Users/barry/.pyenv/versions/3.13.3/lib/python3.13/site-packages (from huggingface-hub<1.0,>=0.16.4->tokenizers<1.0.0,>=0.15.0->ai21-tokenizer<1.0.0,>=0.12.0->ai21<4.0.0,>=3.3.0->langchain_ai21) (1.1.8)\n",
      "\n",
      "\u001b[1m[\u001b[0m\u001b[34;49mnotice\u001b[0m\u001b[1;39;49m]\u001b[0m\u001b[39;49m A new release of pip is available: \u001b[0m\u001b[31;49m25.0.1\u001b[0m\u001b[39;49m -> \u001b[0m\u001b[32;49m25.2\u001b[0m\n",
      "\u001b[1m[\u001b[0m\u001b[34;49mnotice\u001b[0m\u001b[1;39;49m]\u001b[0m\u001b[39;49m To update, run: \u001b[0m\u001b[32;49mpip install --upgrade pip\u001b[0m\n"
     ]
    }
   ],
   "source": [
    "! pip install -U langgraph langchain_openai langchain_core langchain langchain_ai21"
   ]
  },
  {
   "attachments": {
    "image.png": {
     "image/png": "[encoded data removed]"
    }
   },
   "cell_type": "markdown",
   "id": "c647f9cf",
   "metadata": {},
   "source": [
    "![image.png](attachment:image.png)"
   ]
  },
  {
   "cell_type": "markdown",
   "id": "3e0339f5",
   "metadata": {},
   "source": [
    "这个将会创建一个生成提示词的agent"
   ]
  },
  {
   "cell_type": "code",
   "execution_count": 7,
   "id": "08250244",
   "metadata": {},
   "outputs": [],
   "source": [
    "from typing import List\n",
    "\n",
    "from langchain_core.messages import SystemMessage\n",
    "from langchain_openai import ChatOpenAI\n",
    "from dotenv import load_dotenv\n",
    "\n",
    "from pydantic import BaseModel\n",
    "import os\n",
    "\n",
    "load_dotenv()\n",
    "\n",
    "template = \"\"\"Your job is to get information from a user about what type of prompt template they want to create.\n",
    "\n",
    "You should get the following information from them:\n",
    "\n",
    "- What the objective of the prompt is\n",
    "- What variables will be passed into the prompt template\n",
    "- Any constraints for what the output should NOT do\n",
    "- Any requirements that the output MUST adhere to\n",
    "\n",
    "If you are not able to discern this info, ask them to clarify! Do not attempt to wildly guess.\n",
    "\n",
    "After you are able to discern all the information, call the relevant tool.\"\"\"\n",
    "\n",
    "\n",
    "def get_messages_info(messages):\n",
    "    return [SystemMessage(content=template)] + messages\n",
    "\n",
    "\n",
    "class PromptInstructions(BaseModel):\n",
    "    \"\"\"Instructions on how to prompt the LLM.\"\"\"\n",
    "\n",
    "    objective: str\n",
    "    variables: List[str]\n",
    "    constraints: List[str]\n",
    "    requirements: List[str]\n",
    "\n",
    "\n",
    "llm = ChatOpenAI(\n",
    "  api_key=os.getenv('OPENAI_API_KEY'),\n",
    "  base_url=os.getenv('OPENAI_BASE_URL'),\n",
    "  model=os.getenv('MODEL_NAME')\n",
    ")\n",
    "\n",
    "llm_with_tool = llm.bind_tools([PromptInstructions])\n",
    "\n",
    "\n",
    "def info_chain(state):\n",
    "    messages = get_messages_info(state[\"messages\"])\n",
    "    response = llm_with_tool.invoke(messages)\n",
    "    return {\"messages\": [response]}"
   ]
  },
  {
   "cell_type": "markdown",
   "id": "760a85e2",
   "metadata": {},
   "source": [
    "## 生成提示"
   ]
  },
  {
   "cell_type": "code",
   "execution_count": 8,
   "id": "97bfe7ac",
   "metadata": {},
   "outputs": [],
   "source": [
    "from langchain_core.messages import AIMessage, HumanMessage, ToolMessage\n",
    "\n",
    "# New system prompt\n",
    "prompt_system = \"\"\"Based on the following requirements, write a good prompt template:\n",
    "\n",
    "{reqs}\"\"\"\n",
    "\n",
    "\n",
    "# Function to get the messages for the prompt\n",
    "# Will only get messages AFTER the tool call\n",
    "def get_prompt_messages(messages: list):\n",
    "    tool_call = None\n",
    "    other_msgs = []\n",
    "    for m in messages:\n",
    "        if isinstance(m, AIMessage) and m.tool_calls:\n",
    "            tool_call = m.tool_calls[0][\"args\"]\n",
    "        elif isinstance(m, ToolMessage):\n",
    "            continue\n",
    "        elif tool_call is not None:\n",
    "            other_msgs.append(m)\n",
    "    return [SystemMessage(content=prompt_system.format(reqs=tool_call))] + other_msgs\n",
    "\n",
    "\n",
    "def prompt_gen_chain(state):\n",
    "    messages = get_prompt_messages(state[\"messages\"])\n",
    "    response = llm.invoke(messages)\n",
    "    return {\"messages\": [response]}"
   ]
  }
 ],
 "metadata": {
  "kernelspec": {
   "display_name": "3.13.3",
   "language": "python",
   "name": "python3"
  },
  "language_info": {
   "codemirror_mode": {
    "name": "ipython",
    "version": 3
   },
   "file_extension": ".py",
   "mimetype": "text/x-python",
   "name": "python",
   "nbconvert_exporter": "python",
   "pygments_lexer": "ipython3",
   "version": "3.13.3"
  }
 },
 "nbformat": 4,
 "nbformat_minor": 5
}
