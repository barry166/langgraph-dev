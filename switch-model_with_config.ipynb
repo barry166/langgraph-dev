{
 "cells": [
  {
   "cell_type": "markdown",
   "id": "7be2e436",
   "metadata": {},
   "source": [
    "# 运行时配置\n"
   ]
  },
  {
   "cell_type": "code",
   "execution_count": 38,
   "id": "8702d2a3",
   "metadata": {},
   "outputs": [
    {
     "name": "stdout",
     "output_type": "stream",
     "text": [
      "Looking in indexes: https://mirrors.aliyun.com/pypi/simple/\n",
      "Requirement already satisfied: langgraph in /Users/barry/.pyenv/versions/3.13.3/lib/python3.13/site-packages (0.6.4)\n",
      "Requirement already satisfied: langchain_core in /Users/barry/.pyenv/versions/3.13.3/lib/python3.13/site-packages (0.3.74)\n",
      "Requirement already satisfied: langchain_openai in /Users/barry/.pyenv/versions/3.13.3/lib/python3.13/site-packages (0.3.29)\n",
      "Requirement already satisfied: langgraph-checkpoint<3.0.0,>=2.1.0 in /Users/barry/.pyenv/versions/3.13.3/lib/python3.13/site-packages (from langgraph) (2.1.1)\n",
      "Requirement already satisfied: langgraph-prebuilt<0.7.0,>=0.6.0 in /Users/barry/.pyenv/versions/3.13.3/lib/python3.13/site-packages (from langgraph) (0.6.4)\n",
      "Requirement already satisfied: langgraph-sdk<0.3.0,>=0.2.0 in /Users/barry/.pyenv/versions/3.13.3/lib/python3.13/site-packages (from langgraph) (0.2.0)\n",
      "Requirement already satisfied: pydantic>=2.7.4 in /Users/barry/.pyenv/versions/3.13.3/lib/python3.13/site-packages (from langgraph) (2.11.7)\n",
      "Requirement already satisfied: xxhash>=3.5.0 in /Users/barry/.pyenv/versions/3.13.3/lib/python3.13/site-packages (from langgraph) (3.5.0)\n",
      "Requirement already satisfied: langsmith>=0.3.45 in /Users/barry/.pyenv/versions/3.13.3/lib/python3.13/site-packages (from langchain_core) (0.4.13)\n",
      "Requirement already satisfied: tenacity!=8.4.0,<10.0.0,>=8.1.0 in /Users/barry/.pyenv/versions/3.13.3/lib/python3.13/site-packages (from langchain_core) (9.1.2)\n",
      "Requirement already satisfied: jsonpatch<2.0,>=1.33 in /Users/barry/.pyenv/versions/3.13.3/lib/python3.13/site-packages (from langchain_core) (1.33)\n",
      "Requirement already satisfied: PyYAML>=5.3 in /Users/barry/.pyenv/versions/3.13.3/lib/python3.13/site-packages (from langchain_core) (6.0.2)\n",
      "Requirement already satisfied: typing-extensions>=4.7 in /Users/barry/.pyenv/versions/3.13.3/lib/python3.13/site-packages (from langchain_core) (4.14.1)\n",
      "Requirement already satisfied: packaging>=23.2 in /Users/barry/.local/lib/python3.13/site-packages (from langchain_core) (25.0)\n",
      "Requirement already satisfied: openai<2.0.0,>=1.86.0 in /Users/barry/.pyenv/versions/3.13.3/lib/python3.13/site-packages (from langchain_openai) (1.99.6)\n",
      "Requirement already satisfied: tiktoken<1,>=0.7 in /Users/barry/.pyenv/versions/3.13.3/lib/python3.13/site-packages (from langchain_openai) (0.11.0)\n",
      "Requirement already satisfied: jsonpointer>=1.9 in /Users/barry/.pyenv/versions/3.13.3/lib/python3.13/site-packages (from jsonpatch<2.0,>=1.33->langchain_core) (3.0.0)\n",
      "Requirement already satisfied: ormsgpack>=1.10.0 in /Users/barry/.pyenv/versions/3.13.3/lib/python3.13/site-packages (from langgraph-checkpoint<3.0.0,>=2.1.0->langgraph) (1.10.0)\n",
      "Requirement already satisfied: httpx>=0.25.2 in /Users/barry/.pyenv/versions/3.13.3/lib/python3.13/site-packages (from langgraph-sdk<0.3.0,>=0.2.0->langgraph) (0.28.1)\n",
      "Requirement already satisfied: orjson>=3.10.1 in /Users/barry/.pyenv/versions/3.13.3/lib/python3.13/site-packages (from langgraph-sdk<0.3.0,>=0.2.0->langgraph) (3.11.1)\n",
      "Requirement already satisfied: requests-toolbelt>=1.0.0 in /Users/barry/.pyenv/versions/3.13.3/lib/python3.13/site-packages (from langsmith>=0.3.45->langchain_core) (1.0.0)\n",
      "Requirement already satisfied: requests>=2.0.0 in /Users/barry/.pyenv/versions/3.13.3/lib/python3.13/site-packages (from langsmith>=0.3.45->langchain_core) (2.32.4)\n",
      "Requirement already satisfied: zstandard>=0.23.0 in /Users/barry/.pyenv/versions/3.13.3/lib/python3.13/site-packages (from langsmith>=0.3.45->langchain_core) (0.23.0)\n",
      "Requirement already satisfied: anyio<5,>=3.5.0 in /Users/barry/.pyenv/versions/3.13.3/lib/python3.13/site-packages (from openai<2.0.0,>=1.86.0->langchain_openai) (4.10.0)\n",
      "Requirement already satisfied: distro<2,>=1.7.0 in /Users/barry/.pyenv/versions/3.13.3/lib/python3.13/site-packages (from openai<2.0.0,>=1.86.0->langchain_openai) (1.9.0)\n",
      "Requirement already satisfied: jiter<1,>=0.4.0 in /Users/barry/.pyenv/versions/3.13.3/lib/python3.13/site-packages (from openai<2.0.0,>=1.86.0->langchain_openai) (0.10.0)\n",
      "Requirement already satisfied: sniffio in /Users/barry/.pyenv/versions/3.13.3/lib/python3.13/site-packages (from openai<2.0.0,>=1.86.0->langchain_openai) (1.3.1)\n",
      "Requirement already satisfied: tqdm>4 in /Users/barry/.pyenv/versions/3.13.3/lib/python3.13/site-packages (from openai<2.0.0,>=1.86.0->langchain_openai) (4.67.1)\n",
      "Requirement already satisfied: annotated-types>=0.6.0 in /Users/barry/.pyenv/versions/3.13.3/lib/python3.13/site-packages (from pydantic>=2.7.4->langgraph) (0.7.0)\n",
      "Requirement already satisfied: pydantic-core==2.33.2 in /Users/barry/.pyenv/versions/3.13.3/lib/python3.13/site-packages (from pydantic>=2.7.4->langgraph) (2.33.2)\n",
      "Requirement already satisfied: typing-inspection>=0.4.0 in /Users/barry/.pyenv/versions/3.13.3/lib/python3.13/site-packages (from pydantic>=2.7.4->langgraph) (0.4.1)\n",
      "Requirement already satisfied: regex>=2022.1.18 in /Users/barry/.pyenv/versions/3.13.3/lib/python3.13/site-packages (from tiktoken<1,>=0.7->langchain_openai) (2025.7.33)\n",
      "Requirement already satisfied: idna>=2.8 in /Users/barry/.pyenv/versions/3.13.3/lib/python3.13/site-packages (from anyio<5,>=3.5.0->openai<2.0.0,>=1.86.0->langchain_openai) (3.10)\n",
      "Requirement already satisfied: certifi in /Users/barry/.pyenv/versions/3.13.3/lib/python3.13/site-packages (from httpx>=0.25.2->langgraph-sdk<0.3.0,>=0.2.0->langgraph) (2025.8.3)\n",
      "Requirement already satisfied: httpcore==1.* in /Users/barry/.pyenv/versions/3.13.3/lib/python3.13/site-packages (from httpx>=0.25.2->langgraph-sdk<0.3.0,>=0.2.0->langgraph) (1.0.9)\n",
      "Requirement already satisfied: h11>=0.16 in /Users/barry/.pyenv/versions/3.13.3/lib/python3.13/site-packages (from httpcore==1.*->httpx>=0.25.2->langgraph-sdk<0.3.0,>=0.2.0->langgraph) (0.16.0)\n",
      "Requirement already satisfied: charset_normalizer<4,>=2 in /Users/barry/.pyenv/versions/3.13.3/lib/python3.13/site-packages (from requests>=2.0.0->langsmith>=0.3.45->langchain_core) (3.4.3)\n",
      "Requirement already satisfied: urllib3<3,>=1.21.1 in /Users/barry/.pyenv/versions/3.13.3/lib/python3.13/site-packages (from requests>=2.0.0->langsmith>=0.3.45->langchain_core) (2.5.0)\n",
      "\n",
      "\u001b[1m[\u001b[0m\u001b[34;49mnotice\u001b[0m\u001b[1;39;49m]\u001b[0m\u001b[39;49m A new release of pip is available: \u001b[0m\u001b[31;49m25.0.1\u001b[0m\u001b[39;49m -> \u001b[0m\u001b[32;49m25.2\u001b[0m\n",
      "\u001b[1m[\u001b[0m\u001b[34;49mnotice\u001b[0m\u001b[1;39;49m]\u001b[0m\u001b[39;49m To update, run: \u001b[0m\u001b[32;49mpip install --upgrade pip\u001b[0m\n"
     ]
    }
   ],
   "source": [
    "! pip install -U langgraph langchain_core langchain_openai"
   ]
  },
  {
   "cell_type": "markdown",
   "id": "92c038ef",
   "metadata": {},
   "source": [
    "## 定义两个大模型\n"
   ]
  },
  {
   "cell_type": "code",
   "execution_count": 39,
   "id": "d9eb5258",
   "metadata": {},
   "outputs": [],
   "source": [
    "import os\n",
    "\n",
    "os.environ['API_BASE_URL'] = 'https://api.siliconflow.cn/v1'\n",
    "os.environ['API_KEY'] = 'sk-ergndkhlwwhopjyicyysufmfkvbmjxmdcvwlbxvnoloduita'\n",
    "os.environ['DEEPSEEK_MODEL_NAME'] = 'deepseek-ai/DeepSeek-V3'\n",
    "os.environ['K2_MODEL_NAME'] = 'moonshotai/Kimi-K2-Instruct'\n",
    "\n",
    "from langchain_openai import ChatOpenAI\n",
    "\n",
    "\n",
    "deepseek_model = ChatOpenAI(api_key=os.getenv('API_KEY'),\n",
    "                            model_name=os.getenv('DEEPSEEK_MODEL_NAME'),\n",
    "                            base_url=os.getenv('API_BASE_URL'),\n",
    "                            )\n",
    "\n",
    "k2_model = ChatOpenAI(api_key=os.getenv('API_KEY'),\n",
    "                            model_name=os.getenv('K2_MODEL_NAME'),\n",
    "                            base_url=os.getenv('API_BASE_URL'),\n",
    "                            )\n",
    "\n",
    "\n",
    "models = {\n",
    "    'deepseek': deepseek_model,\n",
    "    'k2': k2_model\n",
    "}\n"
   ]
  },
  {
   "cell_type": "markdown",
   "id": "ebfc1aa1",
   "metadata": {},
   "source": [
    "## 定义节点和边\n"
   ]
  },
  {
   "cell_type": "code",
   "execution_count": 40,
   "id": "bdf9e1a4",
   "metadata": {},
   "outputs": [
    {
     "data": {
      "image/png": "[encoded data removed]",
      "text/plain": [
       "<IPython.core.display.Image object>"
      ]
     },
     "metadata": {},
     "output_type": "display_data"
    }
   ],
   "source": [
    "from typing import Annotated\n",
    "from typing_extensions import TypedDict\n",
    "from langchain_core.runnables import RunnableConfig\n",
    "from langgraph.graph import StateGraph, START, END\n",
    "from IPython.display import Image, display\n",
    "\n",
    "\n",
    "class State(TypedDict):\n",
    "    message: str\n",
    "    result: str\n",
    "\n",
    "def node(state: State, config: RunnableConfig) -> str:\n",
    "    print(\"In node with model config: \", config[\"configurable\"][\"model\"])\n",
    "\n",
    "    model_name = config[\"configurable\"].get(\"model\", \"deepseek\")\n",
    "    model_llm = models.get(model_name)\n",
    "\n",
    "    result = model_llm.invoke(state['message'])\n",
    "    state['result'] = result\n",
    "\n",
    "    return {\n",
    "        \"message\": state['message'],\n",
    "        \"result\": state['result']\n",
    "    }\n",
    "\n",
    "\n",
    "builder = StateGraph(State)\n",
    "builder.add_node('node', node)\n",
    "\n",
    "builder.add_edge(START, 'node')\n",
    "builder.add_edge('node', END)\n",
    "\n",
    "graph = builder.compile()\n",
    "\n",
    "display(Image(graph.get_graph().draw_mermaid_png()))"
   ]
  },
  {
   "cell_type": "markdown",
   "id": "5b150090",
   "metadata": {},
   "source": [
    "## 调用\n"
   ]
  },
  {
   "cell_type": "code",
   "execution_count": 41,
   "id": "4127b193",
   "metadata": {},
   "outputs": [
    {
     "name": "stdout",
     "output_type": "stream",
     "text": [
      "In node with model config:  deepseek\n",
      "DeepSeek模型完整结果: {'message': '你是什么大模型呢？', 'result': AIMessage(content='我是 **DeepSeek Chat**，由 **深度求索（DeepSeek）公司**研发的智能对话大模型。我是基于 **DeepSeek-V3** 版本，具备强大的自然语言理解与生成能力，能够处理 **128K 上下文信息**，支持 **文件上传**（如 PDF、Word、Excel 等），并且能够帮你解答各种问题、分析数据、写作创意内容等！  \\n\\n我是 **免费** 使用的，目前没有收费计划，希望能给你带来流畅且高效的 AI 助手体验！😊  \\n\\n有什么我可以帮你的吗？', additional_kwargs={'refusal': None}, response_metadata={'token_usage': {'completion_tokens': 121, 'prompt_tokens': 9, 'total_tokens': 130, 'completion_tokens_details': None, 'prompt_tokens_details': None}, 'model_name': 'deepseek-ai/DeepSeek-V3', 'system_fingerprint': '', 'id': '0198933558b468ffb6e612f9601a119e', 'service_tier': None, 'finish_reason': 'stop', 'logprobs': None}, id='run--917e0de9-a7ac-484b-b8d5-90fc0e597303-0', usage_metadata={'input_tokens': 9, 'output_tokens': 121, 'total_tokens': 130, 'input_token_details': {}, 'output_token_details': {}})}\n",
      "DeepSeek模型回复: 我是 **DeepSeek Chat**，由 **深度求索（DeepSeek）公司**研发的智能对话大模型。我是基于 **DeepSeek-V3** 版本，具备强大的自然语言理解与生成能力，能够处理 **128K 上下文信息**，支持 **文件上传**（如 PDF、Word、Excel 等），并且能够帮你解答各种问题、分析数据、写作创意内容等！  \n",
      "\n",
      "我是 **免费** 使用的，目前没有收费计划，希望能给你带来流畅且高效的 AI 助手体验！😊  \n",
      "\n",
      "有什么我可以帮你的吗？\n",
      "\n",
      "==================================================\n",
      "\n",
      "In node with model config:  k2\n",
      "K2模型完整结果: {'message': '你是什么大模型呢？', 'result': AIMessage(content='我是由*月之暗面科技有限公司*（Moonshot AI）训练的大语言模型，名字叫 **Kimi**。我擅长用自然流畅的语言和你互动交流，能帮你解答问题、处理文本，还能保持上下文记忆，让对话更连贯。', additional_kwargs={'refusal': None}, response_metadata={'token_usage': {'completion_tokens': 51, 'prompt_tokens': 31, 'total_tokens': 82, 'completion_tokens_details': None, 'prompt_tokens_details': None}, 'model_name': 'moonshotai/Kimi-K2-Instruct', 'system_fingerprint': '', 'id': '0198933574952fdfab3326afd2bbecae', 'service_tier': None, 'finish_reason': 'stop', 'logprobs': None}, id='run--4de21f21-f9fa-4dc6-8827-b0c3a165fd3f-0', usage_metadata={'input_tokens': 31, 'output_tokens': 51, 'total_tokens': 82, 'input_token_details': {}, 'output_token_details': {}})}\n",
      "K2模型回复: 我是由*月之暗面科技有限公司*（Moonshot AI）训练的大语言模型，名字叫 **Kimi**。我擅长用自然流畅的语言和你互动交流，能帮你解答问题、处理文本，还能保持上下文记忆，让对话更连贯。\n"
     ]
    }
   ],
   "source": [
    "# 测试修复后的代码 - DeepSeek模型\n",
    "result = graph.invoke({\"message\": \"你是什么大模型呢？\"}, {\"configurable\": {\"model\": \"deepseek\"}})\n",
    "print(\"DeepSeek模型完整结果:\", result)\n",
    "print(\"DeepSeek模型回复:\", result['result'].content if hasattr(result['result'], 'content') else result['result'])\n",
    "\n",
    "print(\"\\n\" + \"=\"*50 + \"\\n\")\n",
    "\n",
    "# 测试K2模型\n",
    "result_k2 = graph.invoke({\"message\": \"你是什么大模型呢？\"}, {\"configurable\": {\"model\": \"k2\"}})\n",
    "print(\"K2模型完整结果:\", result_k2)\n",
    "print(\"K2模型回复:\", result_k2['result'].content if hasattr(result_k2['result'], 'content') else result_k2['result'])"
   ]
  }
 ],
 "metadata": {
  "kernelspec": {
   "display_name": "3.13.3",
   "language": "python",
   "name": "python3"
  },
  "language_info": {
   "codemirror_mode": {
    "name": "ipython",
    "version": 3
   },
   "file_extension": ".py",
   "mimetype": "text/x-python",
   "name": "python",
   "nbconvert_exporter": "python",
   "pygments_lexer": "ipython3",
   "version": "3.13.3"
  }
 },
 "nbformat": 4,
 "nbformat_minor": 5
}
