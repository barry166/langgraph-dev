{
 "cells": [
  {
   "cell_type": "markdown",
   "id": "284687fb",
   "metadata": {},
   "source": [
    "# 时间旅行"
   ]
  },
  {
   "cell_type": "markdown",
   "id": "6e56abc3",
   "metadata": {},
   "source": [
    "langgraph 可以使用Time Travel的能力来查看每个节点的历史状态，你还可以回到某个节点重新执行整个图"
   ]
  },
  {
   "cell_type": "markdown",
   "id": "0bcafcd1",
   "metadata": {},
   "source": [
    "## 怎么使用\n",
    "\n",
    "- 使用invoke 或者 stream方法传入参数来执行整个图\n",
    "\n",
    "- 使用get_state_history() 方法来获取线程的执行历史\n",
    "\n",
    "- 使用 update_state 方法可以来更新某个节点的状态\n",
    "\n",
    "- 使用invoke或stream方法，输入为None，传入thread_id和checkpoint_id来继续执行"
   ]
  },
  {
   "cell_type": "code",
   "execution_count": 1,
   "id": "26413cf6",
   "metadata": {},
   "outputs": [
    {
     "name": "stdout",
     "output_type": "stream",
     "text": [
      "Looking in indexes: https://mirrors.aliyun.com/pypi/simple/\n",
      "Requirement already satisfied: langgraph in /Users/barry/.pyenv/versions/3.13.3/lib/python3.13/site-packages (0.6.5)\n",
      "Requirement already satisfied: langchain_openai in /Users/barry/.pyenv/versions/3.13.3/lib/python3.13/site-packages (0.3.30)\n",
      "Requirement already satisfied: langchain-core>=0.1 in /Users/barry/.pyenv/versions/3.13.3/lib/python3.13/site-packages (from langgraph) (0.3.74)\n",
      "Requirement already satisfied: langgraph-checkpoint<3.0.0,>=2.1.0 in /Users/barry/.pyenv/versions/3.13.3/lib/python3.13/site-packages (from langgraph) (2.1.1)\n",
      "Requirement already satisfied: langgraph-prebuilt<0.7.0,>=0.6.0 in /Users/barry/.pyenv/versions/3.13.3/lib/python3.13/site-packages (from langgraph) (0.6.4)\n",
      "Requirement already satisfied: langgraph-sdk<0.3.0,>=0.2.0 in /Users/barry/.pyenv/versions/3.13.3/lib/python3.13/site-packages (from langgraph) (0.2.0)\n",
      "Requirement already satisfied: pydantic>=2.7.4 in /Users/barry/.pyenv/versions/3.13.3/lib/python3.13/site-packages (from langgraph) (2.11.7)\n",
      "Requirement already satisfied: xxhash>=3.5.0 in /Users/barry/.pyenv/versions/3.13.3/lib/python3.13/site-packages (from langgraph) (3.5.0)\n",
      "Requirement already satisfied: openai<2.0.0,>=1.99.9 in /Users/barry/.pyenv/versions/3.13.3/lib/python3.13/site-packages (from langchain_openai) (1.99.9)\n",
      "Requirement already satisfied: tiktoken<1,>=0.7 in /Users/barry/.pyenv/versions/3.13.3/lib/python3.13/site-packages (from langchain_openai) (0.11.0)\n",
      "Requirement already satisfied: langsmith>=0.3.45 in /Users/barry/.pyenv/versions/3.13.3/lib/python3.13/site-packages (from langchain-core>=0.1->langgraph) (0.4.13)\n",
      "Requirement already satisfied: tenacity!=8.4.0,<10.0.0,>=8.1.0 in /Users/barry/.pyenv/versions/3.13.3/lib/python3.13/site-packages (from langchain-core>=0.1->langgraph) (9.1.2)\n",
      "Requirement already satisfied: jsonpatch<2.0,>=1.33 in /Users/barry/.pyenv/versions/3.13.3/lib/python3.13/site-packages (from langchain-core>=0.1->langgraph) (1.33)\n",
      "Requirement already satisfied: PyYAML>=5.3 in /Users/barry/.pyenv/versions/3.13.3/lib/python3.13/site-packages (from langchain-core>=0.1->langgraph) (6.0.2)\n",
      "Requirement already satisfied: typing-extensions>=4.7 in /Users/barry/.pyenv/versions/3.13.3/lib/python3.13/site-packages (from langchain-core>=0.1->langgraph) (4.14.1)\n",
      "Requirement already satisfied: packaging>=23.2 in /Users/barry/.local/lib/python3.13/site-packages (from langchain-core>=0.1->langgraph) (25.0)\n",
      "Requirement already satisfied: ormsgpack>=1.10.0 in /Users/barry/.pyenv/versions/3.13.3/lib/python3.13/site-packages (from langgraph-checkpoint<3.0.0,>=2.1.0->langgraph) (1.10.0)\n",
      "Requirement already satisfied: httpx>=0.25.2 in /Users/barry/.pyenv/versions/3.13.3/lib/python3.13/site-packages (from langgraph-sdk<0.3.0,>=0.2.0->langgraph) (0.28.1)\n",
      "Requirement already satisfied: orjson>=3.10.1 in /Users/barry/.pyenv/versions/3.13.3/lib/python3.13/site-packages (from langgraph-sdk<0.3.0,>=0.2.0->langgraph) (3.11.1)\n",
      "Requirement already satisfied: anyio<5,>=3.5.0 in /Users/barry/.pyenv/versions/3.13.3/lib/python3.13/site-packages (from openai<2.0.0,>=1.99.9->langchain_openai) (4.10.0)\n",
      "Requirement already satisfied: distro<2,>=1.7.0 in /Users/barry/.pyenv/versions/3.13.3/lib/python3.13/site-packages (from openai<2.0.0,>=1.99.9->langchain_openai) (1.9.0)\n",
      "Requirement already satisfied: jiter<1,>=0.4.0 in /Users/barry/.pyenv/versions/3.13.3/lib/python3.13/site-packages (from openai<2.0.0,>=1.99.9->langchain_openai) (0.10.0)\n",
      "Requirement already satisfied: sniffio in /Users/barry/.pyenv/versions/3.13.3/lib/python3.13/site-packages (from openai<2.0.0,>=1.99.9->langchain_openai) (1.3.1)\n",
      "Requirement already satisfied: tqdm>4 in /Users/barry/.pyenv/versions/3.13.3/lib/python3.13/site-packages (from openai<2.0.0,>=1.99.9->langchain_openai) (4.67.1)\n",
      "Requirement already satisfied: annotated-types>=0.6.0 in /Users/barry/.pyenv/versions/3.13.3/lib/python3.13/site-packages (from pydantic>=2.7.4->langgraph) (0.7.0)\n",
      "Requirement already satisfied: pydantic-core==2.33.2 in /Users/barry/.pyenv/versions/3.13.3/lib/python3.13/site-packages (from pydantic>=2.7.4->langgraph) (2.33.2)\n",
      "Requirement already satisfied: typing-inspection>=0.4.0 in /Users/barry/.pyenv/versions/3.13.3/lib/python3.13/site-packages (from pydantic>=2.7.4->langgraph) (0.4.1)\n",
      "Requirement already satisfied: regex>=2022.1.18 in /Users/barry/.pyenv/versions/3.13.3/lib/python3.13/site-packages (from tiktoken<1,>=0.7->langchain_openai) (2025.7.33)\n",
      "Requirement already satisfied: requests>=2.26.0 in /Users/barry/.pyenv/versions/3.13.3/lib/python3.13/site-packages (from tiktoken<1,>=0.7->langchain_openai) (2.32.4)\n",
      "Requirement already satisfied: idna>=2.8 in /Users/barry/.pyenv/versions/3.13.3/lib/python3.13/site-packages (from anyio<5,>=3.5.0->openai<2.0.0,>=1.99.9->langchain_openai) (3.10)\n",
      "Requirement already satisfied: certifi in /Users/barry/.pyenv/versions/3.13.3/lib/python3.13/site-packages (from httpx>=0.25.2->langgraph-sdk<0.3.0,>=0.2.0->langgraph) (2025.8.3)\n",
      "Requirement already satisfied: httpcore==1.* in /Users/barry/.pyenv/versions/3.13.3/lib/python3.13/site-packages (from httpx>=0.25.2->langgraph-sdk<0.3.0,>=0.2.0->langgraph) (1.0.9)\n",
      "Requirement already satisfied: h11>=0.16 in /Users/barry/.pyenv/versions/3.13.3/lib/python3.13/site-packages (from httpcore==1.*->httpx>=0.25.2->langgraph-sdk<0.3.0,>=0.2.0->langgraph) (0.16.0)\n",
      "Requirement already satisfied: jsonpointer>=1.9 in /Users/barry/.pyenv/versions/3.13.3/lib/python3.13/site-packages (from jsonpatch<2.0,>=1.33->langchain-core>=0.1->langgraph) (3.0.0)\n",
      "Requirement already satisfied: requests-toolbelt>=1.0.0 in /Users/barry/.pyenv/versions/3.13.3/lib/python3.13/site-packages (from langsmith>=0.3.45->langchain-core>=0.1->langgraph) (1.0.0)\n",
      "Requirement already satisfied: zstandard>=0.23.0 in /Users/barry/.pyenv/versions/3.13.3/lib/python3.13/site-packages (from langsmith>=0.3.45->langchain-core>=0.1->langgraph) (0.23.0)\n",
      "Requirement already satisfied: charset_normalizer<4,>=2 in /Users/barry/.pyenv/versions/3.13.3/lib/python3.13/site-packages (from requests>=2.26.0->tiktoken<1,>=0.7->langchain_openai) (3.4.3)\n",
      "Requirement already satisfied: urllib3<3,>=1.21.1 in /Users/barry/.pyenv/versions/3.13.3/lib/python3.13/site-packages (from requests>=2.26.0->tiktoken<1,>=0.7->langchain_openai) (2.5.0)\n",
      "\n",
      "\u001b[1m[\u001b[0m\u001b[34;49mnotice\u001b[0m\u001b[1;39;49m]\u001b[0m\u001b[39;49m A new release of pip is available: \u001b[0m\u001b[31;49m25.0.1\u001b[0m\u001b[39;49m -> \u001b[0m\u001b[32;49m25.2\u001b[0m\n",
      "\u001b[1m[\u001b[0m\u001b[34;49mnotice\u001b[0m\u001b[1;39;49m]\u001b[0m\u001b[39;49m To update, run: \u001b[0m\u001b[32;49mpip install --upgrade pip\u001b[0m\n"
     ]
    }
   ],
   "source": [
    "! pip install -U langgraph langchain_openai"
   ]
  },
  {
   "cell_type": "code",
   "execution_count": 2,
   "id": "23321793",
   "metadata": {},
   "outputs": [],
   "source": [
    "from langchain_openai import ChatOpenAI\n",
    "from dotenv import load_dotenv\n",
    "import os\n",
    "\n",
    "load_dotenv()\n",
    "\n",
    "chat_model = ChatOpenAI(\n",
    "  api_key=os.getenv('OPENAI_API_KEY'),\n",
    "  base_url=os.getenv('OPENAI_BASE_URL'),\n",
    "  model=os.getenv('MODEL_NAME')\n",
    ")\n"
   ]
  },
  {
   "cell_type": "markdown",
   "id": "5d2715d8",
   "metadata": {},
   "source": [
    "## 执行图"
   ]
  },
  {
   "cell_type": "markdown",
   "id": "495d3db3",
   "metadata": {},
   "source": [
    "这是一个常见的agent执行流程"
   ]
  },
  {
   "cell_type": "code",
   "execution_count": 4,
   "id": "c87f28aa",
   "metadata": {},
   "outputs": [
    {
     "data": {
      "image/png": "[encoded data removed]",
      "text/plain": [
       "<langgraph.graph.state.CompiledStateGraph object at 0x113951810>"
      ]
     },
     "execution_count": 4,
     "metadata": {},
     "output_type": "execute_result"
    }
   ],
   "source": [
    "from typing_extensions import TypedDict, NotRequired\n",
    "from langgraph.graph import StateGraph, START, END\n",
    "from langgraph.checkpoint.memory import InMemorySaver\n",
    "\n",
    "\n",
    "class State(TypedDict):\n",
    "    topic: NotRequired[str]\n",
    "    joke: NotRequired[str]\n",
    "\n",
    "\n",
    "# 生成话题\n",
    "def generate_topic(state: State):\n",
    "    \"\"\"LLM call to generate a topic for the joke\"\"\"\n",
    "    msg = chat_model.invoke(\"Give me a funny topic for a joke\")\n",
    "    return {\"topic\": msg.content}\n",
    "\n",
    "# 编写笑话\n",
    "def write_joke(state: State):\n",
    "    \"\"\"LLM call to write a joke based on the topic\"\"\"\n",
    "    msg = chat_model.invoke(f\"Write a short joke about {state['topic']}\")\n",
    "    return {\"joke\": msg.content}\n",
    "\n",
    "\n",
    "# Build workflow\n",
    "workflow = StateGraph(State)\n",
    "\n",
    "# Add nodes\n",
    "workflow.add_node(\"generate_topic\", generate_topic)\n",
    "workflow.add_node(\"write_joke\", write_joke)\n",
    "\n",
    "# Add edges to connect nodes\n",
    "workflow.add_edge(START, \"generate_topic\")\n",
    "workflow.add_edge(\"generate_topic\", \"write_joke\")\n",
    "workflow.add_edge(\"write_joke\", END)\n",
    "\n",
    "# Compile\n",
    "checkpointer = InMemorySaver()\n",
    "graph = workflow.compile(checkpointer=checkpointer)\n",
    "graph"
   ]
  },
  {
   "cell_type": "markdown",
   "id": "cb190cec",
   "metadata": {},
   "source": [
    "### 运行"
   ]
  },
  {
   "cell_type": "code",
   "execution_count": 5,
   "id": "f329117f",
   "metadata": {},
   "outputs": [
    {
     "name": "stdout",
     "output_type": "stream",
     "text": [
      "Why pigeons would make terrible Uber drivers: they only have one destination (your freshly washed car), panic at the word “hawk,” and tip *themselves* in breadcrumbs.\n",
      "\n",
      "Q: Why don’t pigeons drive for Uber?  \n",
      "A: Every ride ends at your freshly washed hood, they hit the eject button if you mutter “hawk,” and when it’s time to tip they just sprinkle breadcrumbs on themselves and flap away like you’re the weird one.\n"
     ]
    }
   ],
   "source": [
    "config = {\n",
    "    \"configurable\": {\n",
    "        \"thread_id\": 1,\n",
    "    }\n",
    "}\n",
    "state = graph.invoke({}, config)\n",
    "\n",
    "print(state[\"topic\"])\n",
    "print()\n",
    "print(state[\"joke\"])"
   ]
  },
  {
   "cell_type": "markdown",
   "id": "9d4b4937",
   "metadata": {},
   "source": [
    "## 确定检查点"
   ]
  },
  {
   "cell_type": "code",
   "execution_count": 11,
   "id": "a9bf40a2",
   "metadata": {},
   "outputs": [
    {
     "name": "stdout",
     "output_type": "stream",
     "text": [
      "()\n",
      "1f07b3ad-2c49-6f1c-8003-b8cfd704eba4\n",
      "state snapshot StateSnapshot(values={'topic': 'chickens', 'joke': 'Why did the chicken stand in the middle of the road?  \\nBecause it wanted to lay it on the line for once!'}, next=(), config={'configurable': {'thread_id': '1', 'checkpoint_ns': '', 'checkpoint_id': '1f07b3ad-2c49-6f1c-8003-b8cfd704eba4'}}, metadata={'source': 'loop', 'step': 3, 'parents': {}}, created_at='2025-08-17T07:21:42.290585+00:00', parent_config={'configurable': {'thread_id': '1', 'checkpoint_ns': '', 'checkpoint_id': '1f07b3a6-98a9-6c36-8002-818df45471ae'}}, tasks=(), interrupts=())\n",
      "---\n",
      "('write_joke',)\n",
      "1f07b3a6-98a9-6c36-8002-818df45471ae\n",
      "state snapshot StateSnapshot(values={'topic': 'chickens'}, next=('write_joke',), config={'configurable': {'thread_id': '1', 'checkpoint_ns': '', 'checkpoint_id': '1f07b3a6-98a9-6c36-8002-818df45471ae'}}, metadata={'source': 'update', 'step': 2, 'parents': {}}, created_at='2025-08-17T07:18:45.749656+00:00', parent_config={'configurable': {'thread_id': '1', 'checkpoint_ns': '', 'checkpoint_id': '1f07b396-4030-66b4-8001-259f2f83d81a'}}, tasks=(PregelTask(id='1f0b9178-c796-4920-d3b7-c74c129c8a7f', name='write_joke', path=('__pregel_pull', 'write_joke'), error=None, interrupts=(), state=None, result={'joke': 'Why did the chicken stand in the middle of the road?  \\nBecause it wanted to lay it on the line for once!'}),), interrupts=())\n",
      "---\n",
      "()\n",
      "1f07b396-68a9-6ad2-8002-14f2c5ddc510\n",
      "state snapshot StateSnapshot(values={'topic': 'Why pigeons would make terrible Uber drivers: they only have one destination (your freshly washed car), panic at the word “hawk,” and tip *themselves* in breadcrumbs.', 'joke': 'Q: Why don’t pigeons drive for Uber?  \\nA: Every ride ends at your freshly washed hood, they hit the eject button if you mutter “hawk,” and when it’s time to tip they just sprinkle breadcrumbs on themselves and flap away like you’re the weird one.'}, next=(), config={'configurable': {'thread_id': '1', 'checkpoint_ns': '', 'checkpoint_id': '1f07b396-68a9-6ad2-8002-14f2c5ddc510'}}, metadata={'source': 'loop', 'step': 2, 'parents': {}}, created_at='2025-08-17T07:11:31.219696+00:00', parent_config={'configurable': {'thread_id': '1', 'checkpoint_ns': '', 'checkpoint_id': '1f07b396-4030-66b4-8001-259f2f83d81a'}}, tasks=(), interrupts=())\n",
      "---\n",
      "('write_joke',)\n",
      "1f07b396-4030-66b4-8001-259f2f83d81a\n",
      "state snapshot StateSnapshot(values={'topic': 'Why pigeons would make terrible Uber drivers: they only have one destination (your freshly washed car), panic at the word “hawk,” and tip *themselves* in breadcrumbs.'}, next=('write_joke',), config={'configurable': {'thread_id': '1', 'checkpoint_ns': '', 'checkpoint_id': '1f07b396-4030-66b4-8001-259f2f83d81a'}}, metadata={'source': 'loop', 'step': 1, 'parents': {}}, created_at='2025-08-17T07:11:26.975738+00:00', parent_config={'configurable': {'thread_id': '1', 'checkpoint_ns': '', 'checkpoint_id': '1f07b396-251c-6710-8000-c2b1bc6e5ef0'}}, tasks=(PregelTask(id='013b9b28-8cd1-318d-0331-935d261bff3b', name='write_joke', path=('__pregel_pull', 'write_joke'), error=None, interrupts=(), state=None, result={'joke': 'Q: Why don’t pigeons drive for Uber?  \\nA: Every ride ends at your freshly washed hood, they hit the eject button if you mutter “hawk,” and when it’s time to tip they just sprinkle breadcrumbs on themselves and flap away like you’re the weird one.'}),), interrupts=())\n",
      "---\n",
      "('generate_topic',)\n",
      "1f07b396-251c-6710-8000-c2b1bc6e5ef0\n",
      "state snapshot StateSnapshot(values={}, next=('generate_topic',), config={'configurable': {'thread_id': '1', 'checkpoint_ns': '', 'checkpoint_id': '1f07b396-251c-6710-8000-c2b1bc6e5ef0'}}, metadata={'source': 'loop', 'step': 0, 'parents': {}}, created_at='2025-08-17T07:11:24.136418+00:00', parent_config={'configurable': {'thread_id': '1', 'checkpoint_ns': '', 'checkpoint_id': '1f07b396-251b-64aa-bfff-5201d7936035'}}, tasks=(PregelTask(id='90f7d914-c3cf-65ce-ac45-f935489cd02a', name='generate_topic', path=('__pregel_pull', 'generate_topic'), error=None, interrupts=(), state=None, result={'topic': 'Why pigeons would make terrible Uber drivers: they only have one destination (your freshly washed car), panic at the word “hawk,” and tip *themselves* in breadcrumbs.'}),), interrupts=())\n",
      "---\n",
      "('__start__',)\n",
      "1f07b396-251b-64aa-bfff-5201d7936035\n",
      "state snapshot StateSnapshot(values={}, next=('__start__',), config={'configurable': {'thread_id': '1', 'checkpoint_ns': '', 'checkpoint_id': '1f07b396-251b-64aa-bfff-5201d7936035'}}, metadata={'source': 'input', 'step': -1, 'parents': {}}, created_at='2025-08-17T07:11:24.135946+00:00', parent_config=None, tasks=(PregelTask(id='f67741aa-22c8-db51-09e6-6f753809283a', name='__start__', path=('__pregel_pull', '__start__'), error=None, interrupts=(), state=None, result={}),), interrupts=())\n",
      "---\n"
     ]
    }
   ],
   "source": [
    "states = list(graph.get_state_history(config))\n",
    "\n",
    "for state in states:\n",
    "    print(state.next)\n",
    "    print(state.config[\"configurable\"][\"checkpoint_id\"])\n",
    "    print('state snapshot', state)\n",
    "    print('---')"
   ]
  },
  {
   "cell_type": "code",
   "execution_count": 7,
   "id": "45daa486",
   "metadata": {},
   "outputs": [
    {
     "name": "stdout",
     "output_type": "stream",
     "text": [
      "('write_joke',)\n",
      "{'topic': 'Why pigeons would make terrible Uber drivers: they only have one destination (your freshly washed car), panic at the word “hawk,” and tip *themselves* in breadcrumbs.'}\n"
     ]
    }
   ],
   "source": [
    "# 选择一个节点的状态\n",
    "selected_state = states[1]\n",
    "print(selected_state.next)\n",
    "print(selected_state.values)"
   ]
  },
  {
   "cell_type": "markdown",
   "id": "818c416f",
   "metadata": {},
   "source": [
    "## 更新节点状态并重新执行"
   ]
  },
  {
   "cell_type": "code",
   "execution_count": 8,
   "id": "cd1a24d7",
   "metadata": {},
   "outputs": [
    {
     "name": "stdout",
     "output_type": "stream",
     "text": [
      "{'configurable': {'thread_id': '1', 'checkpoint_ns': '', 'checkpoint_id': '1f07b3a6-98a9-6c36-8002-818df45471ae'}}\n"
     ]
    }
   ],
   "source": [
    "new_config = graph.update_state(selected_state.config, values={\"topic\": \"chickens\"})\n",
    "print(new_config)"
   ]
  },
  {
   "cell_type": "code",
   "execution_count": 9,
   "id": "80b94484",
   "metadata": {},
   "outputs": [
    {
     "data": {
      "text/plain": [
       "{'topic': 'chickens',\n",
       " 'joke': 'Why did the chicken stand in the middle of the road?  \\nBecause it wanted to lay it on the line for once!'}"
      ]
     },
     "execution_count": 9,
     "metadata": {},
     "output_type": "execute_result"
    }
   ],
   "source": [
    "# 从节点处开始执行\n",
    "graph.invoke(None, new_config)"
   ]
  }
 ],
 "metadata": {
  "kernelspec": {
   "display_name": "3.13.3",
   "language": "python",
   "name": "python3"
  },
  "language_info": {
   "codemirror_mode": {
    "name": "ipython",
    "version": 3
   },
   "file_extension": ".py",
   "mimetype": "text/x-python",
   "name": "python",
   "nbconvert_exporter": "python",
   "pygments_lexer": "ipython3",
   "version": "3.13.3"
  }
 },
 "nbformat": 4,
 "nbformat_minor": 5
}
