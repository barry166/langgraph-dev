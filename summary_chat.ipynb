{
 "cells": [
  {
   "cell_type": "markdown",
   "id": "54620172",
   "metadata": {},
   "source": [
    "# 短期记忆总结"
   ]
  },
  {
   "cell_type": "code",
   "execution_count": 2,
   "id": "95b4539e",
   "metadata": {},
   "outputs": [
    {
     "name": "stdout",
     "output_type": "stream",
     "text": [
      "Requirement already satisfied: langgraph in ./venv/lib/python3.13/site-packages (0.6.4)\n",
      "Requirement already satisfied: langchain_core in ./venv/lib/python3.13/site-packages (0.3.74)\n",
      "Requirement already satisfied: langchain_openai in ./venv/lib/python3.13/site-packages (0.3.29)\n",
      "Requirement already satisfied: python-dotenv in ./venv/lib/python3.13/site-packages (1.1.1)\n",
      "Requirement already satisfied: langgraph-checkpoint-redis in ./venv/lib/python3.13/site-packages (0.1.0)\n",
      "Requirement already satisfied: langgraph-checkpoint<3.0.0,>=2.1.0 in ./venv/lib/python3.13/site-packages (from langgraph) (2.1.1)\n",
      "Requirement already satisfied: langgraph-prebuilt<0.7.0,>=0.6.0 in ./venv/lib/python3.13/site-packages (from langgraph) (0.6.4)\n",
      "Requirement already satisfied: langgraph-sdk<0.3.0,>=0.2.0 in ./venv/lib/python3.13/site-packages (from langgraph) (0.2.0)\n",
      "Requirement already satisfied: pydantic>=2.7.4 in ./venv/lib/python3.13/site-packages (from langgraph) (2.11.7)\n",
      "Requirement already satisfied: xxhash>=3.5.0 in ./venv/lib/python3.13/site-packages (from langgraph) (3.5.0)\n",
      "Requirement already satisfied: ormsgpack>=1.10.0 in ./venv/lib/python3.13/site-packages (from langgraph-checkpoint<3.0.0,>=2.1.0->langgraph) (1.10.0)\n",
      "Requirement already satisfied: httpx>=0.25.2 in ./venv/lib/python3.13/site-packages (from langgraph-sdk<0.3.0,>=0.2.0->langgraph) (0.28.1)\n",
      "Requirement already satisfied: orjson>=3.10.1 in ./venv/lib/python3.13/site-packages (from langgraph-sdk<0.3.0,>=0.2.0->langgraph) (3.11.1)\n",
      "Requirement already satisfied: langsmith>=0.3.45 in ./venv/lib/python3.13/site-packages (from langchain_core) (0.4.13)\n",
      "Requirement already satisfied: tenacity!=8.4.0,<10.0.0,>=8.1.0 in ./venv/lib/python3.13/site-packages (from langchain_core) (9.1.2)\n",
      "Requirement already satisfied: jsonpatch<2.0,>=1.33 in ./venv/lib/python3.13/site-packages (from langchain_core) (1.33)\n",
      "Requirement already satisfied: PyYAML>=5.3 in ./venv/lib/python3.13/site-packages (from langchain_core) (6.0.2)\n",
      "Requirement already satisfied: typing-extensions>=4.7 in ./venv/lib/python3.13/site-packages (from langchain_core) (4.14.1)\n",
      "Requirement already satisfied: packaging>=23.2 in ./venv/lib/python3.13/site-packages (from langchain_core) (25.0)\n",
      "Requirement already satisfied: jsonpointer>=1.9 in ./venv/lib/python3.13/site-packages (from jsonpatch<2.0,>=1.33->langchain_core) (3.0.0)\n",
      "Requirement already satisfied: openai<2.0.0,>=1.86.0 in ./venv/lib/python3.13/site-packages (from langchain_openai) (1.99.6)\n",
      "Requirement already satisfied: tiktoken<1,>=0.7 in ./venv/lib/python3.13/site-packages (from langchain_openai) (0.11.0)\n",
      "Requirement already satisfied: anyio<5,>=3.5.0 in ./venv/lib/python3.13/site-packages (from openai<2.0.0,>=1.86.0->langchain_openai) (4.10.0)\n",
      "Requirement already satisfied: distro<2,>=1.7.0 in ./venv/lib/python3.13/site-packages (from openai<2.0.0,>=1.86.0->langchain_openai) (1.9.0)\n",
      "Requirement already satisfied: jiter<1,>=0.4.0 in ./venv/lib/python3.13/site-packages (from openai<2.0.0,>=1.86.0->langchain_openai) (0.10.0)\n",
      "Requirement already satisfied: sniffio in ./venv/lib/python3.13/site-packages (from openai<2.0.0,>=1.86.0->langchain_openai) (1.3.1)\n",
      "Requirement already satisfied: tqdm>4 in ./venv/lib/python3.13/site-packages (from openai<2.0.0,>=1.86.0->langchain_openai) (4.67.1)\n",
      "Requirement already satisfied: idna>=2.8 in ./venv/lib/python3.13/site-packages (from anyio<5,>=3.5.0->openai<2.0.0,>=1.86.0->langchain_openai) (3.10)\n",
      "Requirement already satisfied: certifi in ./venv/lib/python3.13/site-packages (from httpx>=0.25.2->langgraph-sdk<0.3.0,>=0.2.0->langgraph) (2025.8.3)\n",
      "Requirement already satisfied: httpcore==1.* in ./venv/lib/python3.13/site-packages (from httpx>=0.25.2->langgraph-sdk<0.3.0,>=0.2.0->langgraph) (1.0.9)\n",
      "Requirement already satisfied: h11>=0.16 in ./venv/lib/python3.13/site-packages (from httpcore==1.*->httpx>=0.25.2->langgraph-sdk<0.3.0,>=0.2.0->langgraph) (0.16.0)\n",
      "Requirement already satisfied: annotated-types>=0.6.0 in ./venv/lib/python3.13/site-packages (from pydantic>=2.7.4->langgraph) (0.7.0)\n",
      "Requirement already satisfied: pydantic-core==2.33.2 in ./venv/lib/python3.13/site-packages (from pydantic>=2.7.4->langgraph) (2.33.2)\n",
      "Requirement already satisfied: typing-inspection>=0.4.0 in ./venv/lib/python3.13/site-packages (from pydantic>=2.7.4->langgraph) (0.4.1)\n",
      "Requirement already satisfied: regex>=2022.1.18 in ./venv/lib/python3.13/site-packages (from tiktoken<1,>=0.7->langchain_openai) (2025.7.34)\n",
      "Requirement already satisfied: requests>=2.26.0 in ./venv/lib/python3.13/site-packages (from tiktoken<1,>=0.7->langchain_openai) (2.32.4)\n",
      "Requirement already satisfied: redis<7.0.0,>=6.2.0 in ./venv/lib/python3.13/site-packages (from langgraph-checkpoint-redis) (6.4.0)\n",
      "Requirement already satisfied: redisvl<1.0.0,>=0.5.1 in ./venv/lib/python3.13/site-packages (from langgraph-checkpoint-redis) (0.8.0)\n",
      "Requirement already satisfied: jsonpath-ng>=1.5.0 in ./venv/lib/python3.13/site-packages (from redisvl<1.0.0,>=0.5.1->langgraph-checkpoint-redis) (1.7.0)\n",
      "Requirement already satisfied: ml-dtypes<1.0.0,>=0.4.0 in ./venv/lib/python3.13/site-packages (from redisvl<1.0.0,>=0.5.1->langgraph-checkpoint-redis) (0.5.3)\n",
      "Requirement already satisfied: numpy<3,>=1.26.0 in ./venv/lib/python3.13/site-packages (from redisvl<1.0.0,>=0.5.1->langgraph-checkpoint-redis) (2.3.2)\n",
      "Requirement already satisfied: python-ulid>=3.0.0 in ./venv/lib/python3.13/site-packages (from redisvl<1.0.0,>=0.5.1->langgraph-checkpoint-redis) (3.0.0)\n",
      "Requirement already satisfied: ply in ./venv/lib/python3.13/site-packages (from jsonpath-ng>=1.5.0->redisvl<1.0.0,>=0.5.1->langgraph-checkpoint-redis) (3.11)\n",
      "Requirement already satisfied: requests-toolbelt>=1.0.0 in ./venv/lib/python3.13/site-packages (from langsmith>=0.3.45->langchain_core) (1.0.0)\n",
      "Requirement already satisfied: zstandard>=0.23.0 in ./venv/lib/python3.13/site-packages (from langsmith>=0.3.45->langchain_core) (0.23.0)\n",
      "Requirement already satisfied: charset_normalizer<4,>=2 in ./venv/lib/python3.13/site-packages (from requests>=2.26.0->tiktoken<1,>=0.7->langchain_openai) (3.4.3)\n",
      "Requirement already satisfied: urllib3<3,>=1.21.1 in ./venv/lib/python3.13/site-packages (from requests>=2.26.0->tiktoken<1,>=0.7->langchain_openai) (2.5.0)\n",
      "\n",
      "\u001b[1m[\u001b[0m\u001b[34;49mnotice\u001b[0m\u001b[1;39;49m]\u001b[0m\u001b[39;49m A new release of pip is available: \u001b[0m\u001b[31;49m25.1.1\u001b[0m\u001b[39;49m -> \u001b[0m\u001b[32;49m25.2\u001b[0m\n",
      "\u001b[1m[\u001b[0m\u001b[34;49mnotice\u001b[0m\u001b[1;39;49m]\u001b[0m\u001b[39;49m To update, run: \u001b[0m\u001b[32;49mpip install --upgrade pip\u001b[0m\n"
     ]
    }
   ],
   "source": [
    "! pip install langgraph langchain_core langchain_openai python-dotenv langgraph-checkpoint-redis"
   ]
  },
  {
   "cell_type": "markdown",
   "id": "78d95b37",
   "metadata": {},
   "source": [
    "## 裁剪消息"
   ]
  },
  {
   "cell_type": "code",
   "execution_count": 3,
   "id": "b87962e6",
   "metadata": {},
   "outputs": [
    {
     "name": "stdout",
     "output_type": "stream",
     "text": [
      "==================================\u001b[1m Ai Message \u001b[0m==================================\n",
      "\n",
      "You haven’t told me your name yet—at least, not in any of our exchanges so far. I don’t retain memory between conversations once you close the chat window, so I’d need you to share it again.\n"
     ]
    }
   ],
   "source": [
    "from langchain_core.messages.utils import trim_messages, count_tokens_approximately\n",
    "\n",
    "from langchain_openai import ChatOpenAI\n",
    "from langgraph.graph import StateGraph, START, MessagesState\n",
    "from langgraph.checkpoint.memory import InMemorySaver\n",
    "\n",
    "import os\n",
    "\n",
    "model = ChatOpenAI(\n",
    "    api_key=os.getenv(\"OPENAI_API_KEY\"),\n",
    "    base_url=os.getenv(\"OPENAI_BASE_URL\"),\n",
    "    model=os.getenv(\"MODEL_NAME\"),\n",
    ")\n",
    "summarization_model = model.bind(max_tokens=128)\n",
    "\n",
    "\n",
    "def call_model(state: MessagesState):\n",
    "    messages = trim_messages(\n",
    "        state[\"messages\"],\n",
    "        strategy=\"last\",\n",
    "        token_counter=count_tokens_approximately,\n",
    "        max_tokens=128,\n",
    "        # max_tokens=1280, # 修改token长度试试\n",
    "        start_on=\"human\",\n",
    "        end_on=(\"human\", \"tool\"),\n",
    "    )\n",
    "    response = model.invoke(messages)\n",
    "    return {\"messages\": [response]}\n",
    "\n",
    "\n",
    "checkpointer = InMemorySaver()\n",
    "builder = StateGraph(MessagesState)\n",
    "builder.add_node(call_model)\n",
    "builder.add_edge(START, \"call_model\")\n",
    "graph = builder.compile(checkpointer=checkpointer)\n",
    "\n",
    "config = {\"configurable\": {\"thread_id\": \"1\"}}\n",
    "graph.invoke({\"messages\": \"hi, my name is bob\"}, config)\n",
    "graph.invoke({\"messages\": \"write a short poem about cats\"}, config)\n",
    "graph.invoke({\"messages\": \"now do the same but for dogs\"}, config)\n",
    "final_response = graph.invoke({\"messages\": \"what's my name?\"}, config)\n",
    "\n",
    "# 已经获取不到最后消息了，因为裁减了\n",
    "final_response[\"messages\"][-1].pretty_print()"
   ]
  },
  {
   "cell_type": "markdown",
   "id": "9cdffa0e",
   "metadata": {},
   "source": [
    "## 删除消息"
   ]
  },
  {
   "cell_type": "markdown",
   "id": "d22c6ff1",
   "metadata": {},
   "source": [
    "当超过2条消息的时候，删除最开始的两条消息"
   ]
  },
  {
   "cell_type": "code",
   "execution_count": 4,
   "id": "a968cabb",
   "metadata": {},
   "outputs": [
    {
     "data": {
      "image/png": "[encoded data removed]",
      "text/plain": [
       "<IPython.core.display.Image object>"
      ]
     },
     "metadata": {},
     "output_type": "display_data"
    },
    {
     "name": "stdout",
     "output_type": "stream",
     "text": [
      "111 [('human', \"hi! I'm bob\")]\n",
      "111 [('human', \"hi! I'm bob\"), ('ai', 'Hi Bob! Nice to meet you—what can I help you with today?')]\n",
      "222 [('human', \"hi! I'm bob\"), ('ai', 'Hi Bob! Nice to meet you—what can I help you with today?'), ('human', \"what's my name?\")]\n",
      "222 [('human', \"hi! I'm bob\"), ('ai', 'Hi Bob! Nice to meet you—what can I help you with today?'), ('human', \"what's my name?\"), ('ai', 'Your name is Bob!')]\n",
      "222 [('human', \"what's my name?\"), ('ai', 'Your name is Bob!')]\n"
     ]
    }
   ],
   "source": [
    "from langchain_core.messages import RemoveMessage\n",
    "from IPython.display import Image, display\n",
    "\n",
    "def delete_messages(state):\n",
    "    messages = state[\"messages\"]\n",
    "    if len(messages) > 2:\n",
    "        # remove the earliest two messages\n",
    "        return {\"messages\": [RemoveMessage(id=m.id) for m in messages[:2]]}\n",
    "\n",
    "def call_model(state: MessagesState):\n",
    "    response = model.invoke(state[\"messages\"])\n",
    "    return {\"messages\": response}\n",
    "\n",
    "builder = StateGraph(MessagesState)\n",
    "# 使用add_sequence串联节点\n",
    "builder.add_sequence([call_model, delete_messages])\n",
    "builder.add_edge(START, \"call_model\")\n",
    "\n",
    "checkpointer = InMemorySaver()\n",
    "app = builder.compile(checkpointer=checkpointer)\n",
    "\n",
    "display(Image(app.get_graph().draw_mermaid_png()))\n",
    "\n",
    "for event in app.stream(\n",
    "    {\"messages\": [{\"role\": \"user\", \"content\": \"hi! I'm bob\"}]},\n",
    "    config,\n",
    "    stream_mode=\"values\"\n",
    "):\n",
    "    print(111, [(message.type, message.content) for message in event[\"messages\"]])\n",
    "\n",
    "for event in app.stream(\n",
    "    {\"messages\": [{\"role\": \"user\", \"content\": \"what's my name?\"}]},\n",
    "    config,\n",
    "    stream_mode=\"values\"\n",
    "):\n",
    "    print(222, [(message.type, message.content) for message in event[\"messages\"]])"
   ]
  },
  {
   "cell_type": "markdown",
   "id": "368ad933",
   "metadata": {},
   "source": [
    "## 总结记忆"
   ]
  },
  {
   "cell_type": "markdown",
   "id": "9d3feb30",
   "metadata": {},
   "source": [
    "使用大模型来总结历史记录\n",
    "- 使用SummarizationNode来生成节点总结历史记录"
   ]
  },
  {
   "cell_type": "code",
   "execution_count": 5,
   "id": "308ff1c3",
   "metadata": {},
   "outputs": [
    {
     "name": "stdout",
     "output_type": "stream",
     "text": [
      "Requirement already satisfied: langmem in ./venv/lib/python3.13/site-packages (0.0.29)\n",
      "Requirement already satisfied: langchain-anthropic>=0.3.3 in ./venv/lib/python3.13/site-packages (from langmem) (0.3.18)\n",
      "Requirement already satisfied: langchain-core>=0.3.46 in ./venv/lib/python3.13/site-packages (from langmem) (0.3.74)\n",
      "Requirement already satisfied: langchain-openai>=0.3.1 in ./venv/lib/python3.13/site-packages (from langmem) (0.3.29)\n",
      "Requirement already satisfied: langchain>=0.3.15 in ./venv/lib/python3.13/site-packages (from langmem) (0.3.27)\n",
      "Requirement already satisfied: langgraph-checkpoint>=2.0.12 in ./venv/lib/python3.13/site-packages (from langmem) (2.1.1)\n",
      "Requirement already satisfied: langgraph<0.7.0,>=0.6.0 in ./venv/lib/python3.13/site-packages (from langmem) (0.6.4)\n",
      "Requirement already satisfied: langsmith>=0.3.8 in ./venv/lib/python3.13/site-packages (from langmem) (0.4.13)\n",
      "Requirement already satisfied: trustcall>=0.0.39 in ./venv/lib/python3.13/site-packages (from langmem) (0.0.39)\n",
      "Requirement already satisfied: langgraph-prebuilt<0.7.0,>=0.6.0 in ./venv/lib/python3.13/site-packages (from langgraph<0.7.0,>=0.6.0->langmem) (0.6.4)\n",
      "Requirement already satisfied: langgraph-sdk<0.3.0,>=0.2.0 in ./venv/lib/python3.13/site-packages (from langgraph<0.7.0,>=0.6.0->langmem) (0.2.0)\n",
      "Requirement already satisfied: pydantic>=2.7.4 in ./venv/lib/python3.13/site-packages (from langgraph<0.7.0,>=0.6.0->langmem) (2.11.7)\n",
      "Requirement already satisfied: xxhash>=3.5.0 in ./venv/lib/python3.13/site-packages (from langgraph<0.7.0,>=0.6.0->langmem) (3.5.0)\n",
      "Requirement already satisfied: ormsgpack>=1.10.0 in ./venv/lib/python3.13/site-packages (from langgraph-checkpoint>=2.0.12->langmem) (1.10.0)\n",
      "Requirement already satisfied: httpx>=0.25.2 in ./venv/lib/python3.13/site-packages (from langgraph-sdk<0.3.0,>=0.2.0->langgraph<0.7.0,>=0.6.0->langmem) (0.28.1)\n",
      "Requirement already satisfied: orjson>=3.10.1 in ./venv/lib/python3.13/site-packages (from langgraph-sdk<0.3.0,>=0.2.0->langgraph<0.7.0,>=0.6.0->langmem) (3.11.1)\n",
      "Requirement already satisfied: anyio in ./venv/lib/python3.13/site-packages (from httpx>=0.25.2->langgraph-sdk<0.3.0,>=0.2.0->langgraph<0.7.0,>=0.6.0->langmem) (4.10.0)\n",
      "Requirement already satisfied: certifi in ./venv/lib/python3.13/site-packages (from httpx>=0.25.2->langgraph-sdk<0.3.0,>=0.2.0->langgraph<0.7.0,>=0.6.0->langmem) (2025.8.3)\n",
      "Requirement already satisfied: httpcore==1.* in ./venv/lib/python3.13/site-packages (from httpx>=0.25.2->langgraph-sdk<0.3.0,>=0.2.0->langgraph<0.7.0,>=0.6.0->langmem) (1.0.9)\n",
      "Requirement already satisfied: idna in ./venv/lib/python3.13/site-packages (from httpx>=0.25.2->langgraph-sdk<0.3.0,>=0.2.0->langgraph<0.7.0,>=0.6.0->langmem) (3.10)\n",
      "Requirement already satisfied: h11>=0.16 in ./venv/lib/python3.13/site-packages (from httpcore==1.*->httpx>=0.25.2->langgraph-sdk<0.3.0,>=0.2.0->langgraph<0.7.0,>=0.6.0->langmem) (0.16.0)\n",
      "Requirement already satisfied: langchain-text-splitters<1.0.0,>=0.3.9 in ./venv/lib/python3.13/site-packages (from langchain>=0.3.15->langmem) (0.3.9)\n",
      "Requirement already satisfied: SQLAlchemy<3,>=1.4 in ./venv/lib/python3.13/site-packages (from langchain>=0.3.15->langmem) (2.0.43)\n",
      "Requirement already satisfied: requests<3,>=2 in ./venv/lib/python3.13/site-packages (from langchain>=0.3.15->langmem) (2.32.4)\n",
      "Requirement already satisfied: PyYAML>=5.3 in ./venv/lib/python3.13/site-packages (from langchain>=0.3.15->langmem) (6.0.2)\n",
      "Requirement already satisfied: tenacity!=8.4.0,<10.0.0,>=8.1.0 in ./venv/lib/python3.13/site-packages (from langchain-core>=0.3.46->langmem) (9.1.2)\n",
      "Requirement already satisfied: jsonpatch<2.0,>=1.33 in ./venv/lib/python3.13/site-packages (from langchain-core>=0.3.46->langmem) (1.33)\n",
      "Requirement already satisfied: typing-extensions>=4.7 in ./venv/lib/python3.13/site-packages (from langchain-core>=0.3.46->langmem) (4.14.1)\n",
      "Requirement already satisfied: packaging>=23.2 in ./venv/lib/python3.13/site-packages (from langchain-core>=0.3.46->langmem) (25.0)\n",
      "Requirement already satisfied: jsonpointer>=1.9 in ./venv/lib/python3.13/site-packages (from jsonpatch<2.0,>=1.33->langchain-core>=0.3.46->langmem) (3.0.0)\n",
      "Requirement already satisfied: annotated-types>=0.6.0 in ./venv/lib/python3.13/site-packages (from pydantic>=2.7.4->langgraph<0.7.0,>=0.6.0->langmem) (0.7.0)\n",
      "Requirement already satisfied: pydantic-core==2.33.2 in ./venv/lib/python3.13/site-packages (from pydantic>=2.7.4->langgraph<0.7.0,>=0.6.0->langmem) (2.33.2)\n",
      "Requirement already satisfied: typing-inspection>=0.4.0 in ./venv/lib/python3.13/site-packages (from pydantic>=2.7.4->langgraph<0.7.0,>=0.6.0->langmem) (0.4.1)\n",
      "Requirement already satisfied: charset_normalizer<4,>=2 in ./venv/lib/python3.13/site-packages (from requests<3,>=2->langchain>=0.3.15->langmem) (3.4.3)\n",
      "Requirement already satisfied: urllib3<3,>=1.21.1 in ./venv/lib/python3.13/site-packages (from requests<3,>=2->langchain>=0.3.15->langmem) (2.5.0)\n",
      "Requirement already satisfied: anthropic<1,>=0.60.0 in ./venv/lib/python3.13/site-packages (from langchain-anthropic>=0.3.3->langmem) (0.62.0)\n",
      "Requirement already satisfied: distro<2,>=1.7.0 in ./venv/lib/python3.13/site-packages (from anthropic<1,>=0.60.0->langchain-anthropic>=0.3.3->langmem) (1.9.0)\n",
      "Requirement already satisfied: jiter<1,>=0.4.0 in ./venv/lib/python3.13/site-packages (from anthropic<1,>=0.60.0->langchain-anthropic>=0.3.3->langmem) (0.10.0)\n",
      "Requirement already satisfied: sniffio in ./venv/lib/python3.13/site-packages (from anthropic<1,>=0.60.0->langchain-anthropic>=0.3.3->langmem) (1.3.1)\n",
      "Requirement already satisfied: openai<2.0.0,>=1.86.0 in ./venv/lib/python3.13/site-packages (from langchain-openai>=0.3.1->langmem) (1.99.6)\n",
      "Requirement already satisfied: tiktoken<1,>=0.7 in ./venv/lib/python3.13/site-packages (from langchain-openai>=0.3.1->langmem) (0.11.0)\n",
      "Requirement already satisfied: tqdm>4 in ./venv/lib/python3.13/site-packages (from openai<2.0.0,>=1.86.0->langchain-openai>=0.3.1->langmem) (4.67.1)\n",
      "Requirement already satisfied: regex>=2022.1.18 in ./venv/lib/python3.13/site-packages (from tiktoken<1,>=0.7->langchain-openai>=0.3.1->langmem) (2025.7.34)\n",
      "Requirement already satisfied: requests-toolbelt>=1.0.0 in ./venv/lib/python3.13/site-packages (from langsmith>=0.3.8->langmem) (1.0.0)\n",
      "Requirement already satisfied: zstandard>=0.23.0 in ./venv/lib/python3.13/site-packages (from langsmith>=0.3.8->langmem) (0.23.0)\n",
      "Requirement already satisfied: dydantic<1.0.0,>=0.0.8 in ./venv/lib/python3.13/site-packages (from trustcall>=0.0.39->langmem) (0.0.8)\n",
      "\n",
      "\u001b[1m[\u001b[0m\u001b[34;49mnotice\u001b[0m\u001b[1;39;49m]\u001b[0m\u001b[39;49m A new release of pip is available: \u001b[0m\u001b[31;49m25.1.1\u001b[0m\u001b[39;49m -> \u001b[0m\u001b[32;49m25.2\u001b[0m\n",
      "\u001b[1m[\u001b[0m\u001b[34;49mnotice\u001b[0m\u001b[1;39;49m]\u001b[0m\u001b[39;49m To update, run: \u001b[0m\u001b[32;49mpip install --upgrade pip\u001b[0m\n"
     ]
    }
   ],
   "source": [
    "! pip install langmem"
   ]
  },
  {
   "cell_type": "code",
   "execution_count": null,
   "id": "cc2f1026",
   "metadata": {},
   "outputs": [
    {
     "name": "stdout",
     "output_type": "stream",
     "text": [
      "==================================\u001b[1m Ai Message \u001b[0m==================================\n",
      "\n",
      "Your name is Bob.\n",
      "\n",
      "Summary: Bob greeted the assistant, which responded in kind. Bob then asked for a short poem about cats, received one, requested a similar poem for dogs, and got it.\n"
     ]
    }
   ],
   "source": [
    "# from typing import Any, TypedDict\n",
    "\n",
    "# from langchain_core.messages import AnyMessage\n",
    "# from langchain_core.messages.utils import count_tokens_approximately\n",
    "# from langgraph.graph import StateGraph, START, MessagesState\n",
    "# from langgraph.checkpoint.memory import InMemorySaver\n",
    "# from langmem.short_term import SummarizationNode, RunningSummary\n",
    "\n",
    "# summarization_model = model.bind(max_tokens=128)\n",
    "\n",
    "# class State(MessagesState):\n",
    "#     context: dict[str, RunningSummary]  \n",
    "\n",
    "# class LLMInputState(TypedDict):  \n",
    "#     summarized_messages: list[AnyMessage]\n",
    "#     context: dict[str, RunningSummary]\n",
    "\n",
    "# summarization_node = SummarizationNode(\n",
    "#     token_counter=count_tokens_approximately,\n",
    "#     model=summarization_model,\n",
    "#     max_tokens=2560,\n",
    "#     max_tokens_before_summary=256,\n",
    "#     max_summary_tokens=1280,\n",
    "# )\n",
    "\n",
    "# def call_model(state: LLMInputState):  \n",
    "#     response = model.invoke(state[\"summarized_messages\"])\n",
    "#     return {\"messages\": [response]}\n",
    "\n",
    "# checkpointer = InMemorySaver()\n",
    "# builder = StateGraph(State)\n",
    "# builder.add_node(call_model)\n",
    "# builder.add_node(\"summarize\", summarization_node)\n",
    "# builder.add_edge(START, \"summarize\")\n",
    "# builder.add_edge(\"summarize\", \"call_model\")\n",
    "\n",
    "from langchain_core.messages import AnyMessage\n",
    "from langchain_core.messages.utils import count_tokens_approximately\n",
    "from langgraph.graph import StateGraph, START, MessagesState\n",
    "from langgraph.checkpoint.memory import InMemorySaver\n",
    "from langmem.short_term import SummarizationNode, RunningSummary\n",
    "\n",
    "# 正确的状态定义\n",
    "class State(MessagesState):\n",
    "    context: dict[str, RunningSummary]\n",
    "    summarized_messages: list[AnyMessage] = []  # 添加这个字段\n",
    "\n",
    "summarization_model = model.bind(max_tokens=128)\n",
    "\n",
    "summarization_node = SummarizationNode(\n",
    "    token_counter=count_tokens_approximately,\n",
    "    model=summarization_model,\n",
    "    max_tokens=2560,\n",
    "    max_tokens_before_summary=256,\n",
    "    max_summary_tokens=1280,\n",
    ")\n",
    "\n",
    "# 修正后的call_model函数\n",
    "def call_model(state: State):  # 使用正确的状态类型\n",
    "    # 使用SummarizationNode处理后的消息\n",
    "    messages = state.get(\"summarized_messages\", state[\"messages\"])\n",
    "    response = model.invoke(messages)\n",
    "    return {\"messages\": [response]}\n",
    "\n",
    "checkpointer = InMemorySaver()\n",
    "builder = StateGraph(State)\n",
    "builder.add_node(\"call_model\", call_model)  # 注意节点名称\n",
    "builder.add_node(\"summarize\", summarization_node)\n",
    "builder.add_edge(START, \"summarize\")\n",
    "builder.add_edge(\"summarize\", \"call_model\")\n",
    "graph = builder.compile(checkpointer=checkpointer)\n",
    "\n",
    "graph = builder.compile(checkpointer=checkpointer)\n",
    "\n",
    "# Invoke the graph\n",
    "config = {\"configurable\": {\"thread_id\": \"1\"}}\n",
    "graph.invoke({\"messages\": \"hi, my name is bob\"}, config)\n",
    "graph.invoke({\"messages\": \"write a short poem about cats\"}, config)\n",
    "graph.invoke({\"messages\": \"now do the same but for dogs\"}, config)\n",
    "final_response = graph.invoke({\"messages\": \"what's my name?\"}, config)\n",
    "\n",
    "final_response[\"messages\"][-1].pretty_print()\n",
    "print(\"\\nSummary:\", final_response[\"context\"][\"running_summary\"].summary)"
   ]
  }
 ],
 "metadata": {
  "kernelspec": {
   "display_name": "venv",
   "language": "python",
   "name": "python3"
  },
  "language_info": {
   "codemirror_mode": {
    "name": "ipython",
    "version": 3
   },
   "file_extension": ".py",
   "mimetype": "text/x-python",
   "name": "python",
   "nbconvert_exporter": "python",
   "pygments_lexer": "ipython3",
   "version": "3.13.3"
  }
 },
 "nbformat": 4,
 "nbformat_minor": 5
}
