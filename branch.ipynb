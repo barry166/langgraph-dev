{
 "cells": [
  {
   "cell_type": "markdown",
   "id": "49c2049c",
   "metadata": {},
   "source": [
    "# 分支结构"
   ]
  },
  {
   "cell_type": "markdown",
   "id": "d62eb860",
   "metadata": {},
   "source": [
    "## 并行分支"
   ]
  },
  {
   "cell_type": "code",
   "execution_count": 17,
   "id": "9466af88",
   "metadata": {},
   "outputs": [
    {
     "name": "stdout",
     "output_type": "stream",
     "text": [
      "Looking in indexes: https://mirrors.aliyun.com/pypi/simple/\n",
      "Requirement already satisfied: langgraph in /Users/barry/.pyenv/versions/3.13.3/lib/python3.13/site-packages (0.6.4)\n",
      "Requirement already satisfied: langchain_core in /Users/barry/.pyenv/versions/3.13.3/lib/python3.13/site-packages (0.3.74)\n",
      "Requirement already satisfied: langgraph-checkpoint<3.0.0,>=2.1.0 in /Users/barry/.pyenv/versions/3.13.3/lib/python3.13/site-packages (from langgraph) (2.1.1)\n",
      "Requirement already satisfied: langgraph-prebuilt<0.7.0,>=0.6.0 in /Users/barry/.pyenv/versions/3.13.3/lib/python3.13/site-packages (from langgraph) (0.6.4)\n",
      "Requirement already satisfied: langgraph-sdk<0.3.0,>=0.2.0 in /Users/barry/.pyenv/versions/3.13.3/lib/python3.13/site-packages (from langgraph) (0.2.0)\n",
      "Requirement already satisfied: pydantic>=2.7.4 in /Users/barry/.pyenv/versions/3.13.3/lib/python3.13/site-packages (from langgraph) (2.11.7)\n",
      "Requirement already satisfied: xxhash>=3.5.0 in /Users/barry/.pyenv/versions/3.13.3/lib/python3.13/site-packages (from langgraph) (3.5.0)\n",
      "Requirement already satisfied: langsmith>=0.3.45 in /Users/barry/.pyenv/versions/3.13.3/lib/python3.13/site-packages (from langchain_core) (0.4.13)\n",
      "Requirement already satisfied: tenacity!=8.4.0,<10.0.0,>=8.1.0 in /Users/barry/.pyenv/versions/3.13.3/lib/python3.13/site-packages (from langchain_core) (9.1.2)\n",
      "Requirement already satisfied: jsonpatch<2.0,>=1.33 in /Users/barry/.pyenv/versions/3.13.3/lib/python3.13/site-packages (from langchain_core) (1.33)\n",
      "Requirement already satisfied: PyYAML>=5.3 in /Users/barry/.pyenv/versions/3.13.3/lib/python3.13/site-packages (from langchain_core) (6.0.2)\n",
      "Requirement already satisfied: typing-extensions>=4.7 in /Users/barry/.pyenv/versions/3.13.3/lib/python3.13/site-packages (from langchain_core) (4.14.1)\n",
      "Requirement already satisfied: packaging>=23.2 in /Users/barry/.local/lib/python3.13/site-packages (from langchain_core) (25.0)\n",
      "Requirement already satisfied: jsonpointer>=1.9 in /Users/barry/.pyenv/versions/3.13.3/lib/python3.13/site-packages (from jsonpatch<2.0,>=1.33->langchain_core) (3.0.0)\n",
      "Requirement already satisfied: ormsgpack>=1.10.0 in /Users/barry/.pyenv/versions/3.13.3/lib/python3.13/site-packages (from langgraph-checkpoint<3.0.0,>=2.1.0->langgraph) (1.10.0)\n",
      "Requirement already satisfied: httpx>=0.25.2 in /Users/barry/.pyenv/versions/3.13.3/lib/python3.13/site-packages (from langgraph-sdk<0.3.0,>=0.2.0->langgraph) (0.28.1)\n",
      "Requirement already satisfied: orjson>=3.10.1 in /Users/barry/.pyenv/versions/3.13.3/lib/python3.13/site-packages (from langgraph-sdk<0.3.0,>=0.2.0->langgraph) (3.11.1)\n",
      "Requirement already satisfied: requests-toolbelt>=1.0.0 in /Users/barry/.pyenv/versions/3.13.3/lib/python3.13/site-packages (from langsmith>=0.3.45->langchain_core) (1.0.0)\n",
      "Requirement already satisfied: requests>=2.0.0 in /Users/barry/.pyenv/versions/3.13.3/lib/python3.13/site-packages (from langsmith>=0.3.45->langchain_core) (2.32.4)\n",
      "Requirement already satisfied: zstandard>=0.23.0 in /Users/barry/.pyenv/versions/3.13.3/lib/python3.13/site-packages (from langsmith>=0.3.45->langchain_core) (0.23.0)\n",
      "Requirement already satisfied: annotated-types>=0.6.0 in /Users/barry/.pyenv/versions/3.13.3/lib/python3.13/site-packages (from pydantic>=2.7.4->langgraph) (0.7.0)\n",
      "Requirement already satisfied: pydantic-core==2.33.2 in /Users/barry/.pyenv/versions/3.13.3/lib/python3.13/site-packages (from pydantic>=2.7.4->langgraph) (2.33.2)\n",
      "Requirement already satisfied: typing-inspection>=0.4.0 in /Users/barry/.pyenv/versions/3.13.3/lib/python3.13/site-packages (from pydantic>=2.7.4->langgraph) (0.4.1)\n",
      "Requirement already satisfied: anyio in /Users/barry/.pyenv/versions/3.13.3/lib/python3.13/site-packages (from httpx>=0.25.2->langgraph-sdk<0.3.0,>=0.2.0->langgraph) (4.10.0)\n",
      "Requirement already satisfied: certifi in /Users/barry/.pyenv/versions/3.13.3/lib/python3.13/site-packages (from httpx>=0.25.2->langgraph-sdk<0.3.0,>=0.2.0->langgraph) (2025.8.3)\n",
      "Requirement already satisfied: httpcore==1.* in /Users/barry/.pyenv/versions/3.13.3/lib/python3.13/site-packages (from httpx>=0.25.2->langgraph-sdk<0.3.0,>=0.2.0->langgraph) (1.0.9)\n",
      "Requirement already satisfied: idna in /Users/barry/.pyenv/versions/3.13.3/lib/python3.13/site-packages (from httpx>=0.25.2->langgraph-sdk<0.3.0,>=0.2.0->langgraph) (3.10)\n",
      "Requirement already satisfied: h11>=0.16 in /Users/barry/.pyenv/versions/3.13.3/lib/python3.13/site-packages (from httpcore==1.*->httpx>=0.25.2->langgraph-sdk<0.3.0,>=0.2.0->langgraph) (0.16.0)\n",
      "Requirement already satisfied: charset_normalizer<4,>=2 in /Users/barry/.pyenv/versions/3.13.3/lib/python3.13/site-packages (from requests>=2.0.0->langsmith>=0.3.45->langchain_core) (3.4.3)\n",
      "Requirement already satisfied: urllib3<3,>=1.21.1 in /Users/barry/.pyenv/versions/3.13.3/lib/python3.13/site-packages (from requests>=2.0.0->langsmith>=0.3.45->langchain_core) (2.5.0)\n",
      "Requirement already satisfied: sniffio>=1.1 in /Users/barry/.pyenv/versions/3.13.3/lib/python3.13/site-packages (from anyio->httpx>=0.25.2->langgraph-sdk<0.3.0,>=0.2.0->langgraph) (1.3.1)\n",
      "\n",
      "\u001b[1m[\u001b[0m\u001b[34;49mnotice\u001b[0m\u001b[1;39;49m]\u001b[0m\u001b[39;49m A new release of pip is available: \u001b[0m\u001b[31;49m25.0.1\u001b[0m\u001b[39;49m -> \u001b[0m\u001b[32;49m25.2\u001b[0m\n",
      "\u001b[1m[\u001b[0m\u001b[34;49mnotice\u001b[0m\u001b[1;39;49m]\u001b[0m\u001b[39;49m To update, run: \u001b[0m\u001b[32;49mpip install --upgrade pip\u001b[0m\n"
     ]
    }
   ],
   "source": [
    "! pip install -U langgraph langchain_core"
   ]
  },
  {
   "cell_type": "markdown",
   "id": "34a8e5b2",
   "metadata": {},
   "source": [
    "### 定义节点和边"
   ]
  },
  {
   "cell_type": "code",
   "execution_count": 18,
   "id": "33e22406",
   "metadata": {},
   "outputs": [],
   "source": [
    "import operator\n",
    "from typing import Annotated\n",
    "from typing_extensions import TypedDict\n",
    "from langgraph.graph import StateGraph, START, END\n",
    "\n",
    "class State(TypedDict):\n",
    "  value: Annotated[list, operator.add]\n",
    "\n",
    "def a(state: State):\n",
    "  print(f\"\"\"add a to {state['value']}\"\"\")\n",
    "  return { \n",
    "    \"value\": ['A']\n",
    "  }\n",
    "def b(state: State):\n",
    "  print(f\"\"\"add a to {state['value']}\"\"\")\n",
    "  return { \n",
    "    \"value\": ['B']\n",
    "  }\n",
    "def c(state: State):\n",
    "  print(f\"\"\"add a to {state['value']}\"\"\")\n",
    "  return { \n",
    "    \"value\": ['C']\n",
    "  }\n",
    "def d(state: State):\n",
    "  print(f\"\"\"add a to {state['value']}\"\"\")\n",
    "  return { \n",
    "    \"value\": ['D']\n",
    "  }\n",
    "\n",
    "builder = StateGraph(State)\n",
    "builder.add_node('a', a)\n",
    "builder.add_node('b', b)\n",
    "builder.add_node('c', c)\n",
    "builder.add_node('d', d)\n",
    "\n",
    "builder.add_edge(START, 'a')\n",
    "builder.add_edge('a', 'b')\n",
    "builder.add_edge('a', 'c')\n",
    "builder.add_edge('b', 'd')\n",
    "builder.add_edge('c', 'd')\n",
    "builder.add_edge('d', END)\n",
    "\n",
    "graph = builder.compile()"
   ]
  },
  {
   "cell_type": "markdown",
   "id": "4feaa1c9",
   "metadata": {},
   "source": [
    "### 可视化图表"
   ]
  },
  {
   "cell_type": "code",
   "execution_count": 19,
   "id": "9c94e765",
   "metadata": {},
   "outputs": [
    {
     "data": {
      "image/png": "[encoded data removed]",
      "text/plain": [
       "<IPython.core.display.Image object>"
      ]
     },
     "metadata": {},
     "output_type": "display_data"
    }
   ],
   "source": [
    "from IPython.display import Image, display\n",
    "\n",
    "try:\n",
    "    display(Image(graph.get_graph().draw_mermaid_png()))\n",
    "except Exception:\n",
    "    # This requires some extra dependencies and is optional\n",
    "    pass"
   ]
  },
  {
   "cell_type": "markdown",
   "id": "588d884a",
   "metadata": {},
   "source": [
    "### 运行"
   ]
  },
  {
   "cell_type": "code",
   "execution_count": 20,
   "id": "88215c09",
   "metadata": {},
   "outputs": [
    {
     "name": "stdout",
     "output_type": "stream",
     "text": [
      "add a to []\n",
      "add a to ['A']\n",
      "add a to ['A']\n",
      "add a to ['A', 'B', 'C']\n"
     ]
    },
    {
     "data": {
      "text/plain": [
       "{'value': ['A', 'B', 'C', 'D']}"
      ]
     },
     "execution_count": 20,
     "metadata": {},
     "output_type": "execute_result"
    }
   ],
   "source": [
    "graph.invoke({\"value\": []}, {\"configurable\": {\"thread\": 'foo'}})"
   ]
  },
  {
   "cell_type": "markdown",
   "id": "a9d29ec0",
   "metadata": {},
   "source": [
    "## 条件边和循环"
   ]
  },
  {
   "cell_type": "code",
   "execution_count": null,
   "id": "8bbe8caf",
   "metadata": {},
   "outputs": [
    {
     "data": {
      "image/png": "[encoded data removed]",
      "text/plain": [
       "<IPython.core.display.Image object>"
      ]
     },
     "metadata": {},
     "output_type": "display_data"
    }
   ],
   "source": [
    "import operator\n",
    "from typing import Annotated, Literal\n",
    "from typing_extensions import TypedDict\n",
    "from langgraph.graph import StateGraph, START, END\n",
    "\n",
    "class State(TypedDict):\n",
    "  value: Annotated[list, operator.add]\n",
    "\n",
    "def a(state: State):\n",
    "  print(f\"\"\"add a to {state['value']}\"\"\")\n",
    "  return { \n",
    "    \"value\": ['A']\n",
    "  }\n",
    "def b(state: State):\n",
    "  print(f\"\"\"add a to {state['value']}\"\"\")\n",
    "  return { \n",
    "    \"value\": ['B']\n",
    "  }\n",
    "\n",
    "def route(state: State) -> Literal['b', END]:\n",
    "  if (len(state['value']) < 7):\n",
    "    return 'b'\n",
    "  else:\n",
    "    return END\n",
    "\n",
    "\n",
    "\n",
    "builder1 = StateGraph(State)\n",
    "builder1.add_node('a', a)\n",
    "builder1.add_node('b', b)\n",
    "\n",
    "builder1.add_edge(START, 'a')\n",
    "builder1.add_conditional_edges('a', route)\n",
    "builder1.add_edge('b', 'a')\n",
    "\n",
    "graph1 = builder1.compile()\n",
    "\n",
    "display(Image(graph1.get_graph().draw_mermaid_png()))"
   ]
  },
  {
   "cell_type": "markdown",
   "id": "11016434",
   "metadata": {},
   "source": [
    "### 调用\n",
    "\n",
    "直到满足条件才退出循环"
   ]
  },
  {
   "cell_type": "code",
   "execution_count": 22,
   "id": "f6c3c50e",
   "metadata": {},
   "outputs": [
    {
     "name": "stdout",
     "output_type": "stream",
     "text": [
      "add a to []\n",
      "add a to ['A']\n",
      "add a to ['A', 'B']\n",
      "add a to ['A', 'B', 'A']\n",
      "add a to ['A', 'B', 'A', 'B']\n",
      "add a to ['A', 'B', 'A', 'B', 'A']\n",
      "add a to ['A', 'B', 'A', 'B', 'A', 'B']\n"
     ]
    },
    {
     "data": {
      "text/plain": [
       "{'value': ['A', 'B', 'A', 'B', 'A', 'B', 'A']}"
      ]
     },
     "execution_count": 22,
     "metadata": {},
     "output_type": "execute_result"
    }
   ],
   "source": [
    "graph1.invoke({\"value\": []}, {\"configurable\": {\"thread\": 'foo'}})"
   ]
  },
  {
   "cell_type": "markdown",
   "id": "e182ec13",
   "metadata": {},
   "source": [
    "### 调用最大次数限制"
   ]
  },
  {
   "cell_type": "code",
   "execution_count": 25,
   "id": "ca6a9a6c",
   "metadata": {},
   "outputs": [
    {
     "name": "stdout",
     "output_type": "stream",
     "text": [
      "add a to []\n",
      "add a to ['A']\n",
      "add a to ['A', 'B']\n",
      "GraphRecursionError: Recursion limit of 3 reached without hitting a stop condition. You can increase the limit by setting the `recursion_limit` config key.\n",
      "For troubleshooting, visit: https://python.langchain.com/docs/troubleshooting/errors/GRAPH_RECURSION_LIMIT\n"
     ]
    }
   ],
   "source": [
    "from langgraph.errors import GraphRecursionError\n",
    "\n",
    "try:\n",
    "    graph1.invoke({\"value\": []}, {\"recursion_limit\": 3})\n",
    "except GraphRecursionError as e:\n",
    "    print(f\"GraphRecursionError: {e}\")"
   ]
  }
 ],
 "metadata": {
  "kernelspec": {
   "display_name": "3.13.3",
   "language": "python",
   "name": "python3"
  },
  "language_info": {
   "codemirror_mode": {
    "name": "ipython",
    "version": 3
   },
   "file_extension": ".py",
   "mimetype": "text/x-python",
   "name": "python",
   "nbconvert_exporter": "python",
   "pygments_lexer": "ipython3",
   "version": "3.13.3"
  }
 },
 "nbformat": 4,
 "nbformat_minor": 5
}
